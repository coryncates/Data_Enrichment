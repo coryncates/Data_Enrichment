{
 "cells": [
  {
   "cell_type": "code",
   "execution_count": 78,
   "id": "b9a07453",
   "metadata": {
    "ExecuteTime": {
     "end_time": "2023-09-01T02:37:29.148335Z",
     "start_time": "2023-09-01T02:37:29.138965Z"
    }
   },
   "outputs": [
    {
     "data": {
      "text/plain": [
       "['.DS_Store',\n",
       " 'title.basics.tsv.gz',\n",
       " 'title.ratings.tsv.gz',\n",
       " 'title-akas-us-only.csv',\n",
       " 'title_akas.csv.gz']"
      ]
     },
     "execution_count": 78,
     "metadata": {},
     "output_type": "execute_result"
    }
   ],
   "source": [
    "import pandas as pd\n",
    "import numpy as np\n",
    "\n",
    "# example making new folder with os\n",
    "import os\n",
    "os.makedirs('Data/',exist_ok=True) # Confirm folder created\n",
    "os.listdir(\"Data/\")\n",
    "\n"
   ]
  },
  {
   "cell_type": "markdown",
   "id": "2188d06a",
   "metadata": {},
   "source": []
  },
  {
   "cell_type": "code",
   "execution_count": 79,
   "id": "a1748ef2",
   "metadata": {
    "ExecuteTime": {
     "end_time": "2023-09-01T02:38:20.416266Z",
     "start_time": "2023-09-01T02:37:29.160641Z"
    }
   },
   "outputs": [
    {
     "data": {
      "text/plain": [
       "(     titleId  ordering                      title region language  \\\n",
       " 0  tt0000001         1                 Карменсіта     UA       \\N   \n",
       " 1  tt0000001         2                 Carmencita     DE       \\N   \n",
       " 2  tt0000001         3  Carmencita - spanyol tánc     HU       \\N   \n",
       " 3  tt0000001         4                 Καρμενσίτα     GR       \\N   \n",
       " 4  tt0000001         5                 Карменсита     RU       \\N   \n",
       " \n",
       "          types     attributes isOriginalTitle  \n",
       " 0  imdbDisplay             \\N               0  \n",
       " 1           \\N  literal title               0  \n",
       " 2  imdbDisplay             \\N               0  \n",
       " 3  imdbDisplay             \\N               0  \n",
       " 4  imdbDisplay             \\N               0  ,\n",
       "       tconst titleType            primaryTitle           originalTitle  \\\n",
       " 0  tt0000001     short              Carmencita              Carmencita   \n",
       " 1  tt0000002     short  Le clown et ses chiens  Le clown et ses chiens   \n",
       " 2  tt0000003     short          Pauvre Pierrot          Pauvre Pierrot   \n",
       " 3  tt0000004     short             Un bon bock             Un bon bock   \n",
       " 4  tt0000005     short        Blacksmith Scene        Blacksmith Scene   \n",
       " \n",
       "   isAdult startYear endYear runtimeMinutes                    genres  \n",
       " 0       0      1894      \\N              1         Documentary,Short  \n",
       " 1       0      1892      \\N              5           Animation,Short  \n",
       " 2       0      1892      \\N              4  Animation,Comedy,Romance  \n",
       " 3       0      1892      \\N             12           Animation,Short  \n",
       " 4       0      1893      \\N              1              Comedy,Short  ,\n",
       "       tconst  averageRating  numVotes\n",
       " 0  tt0000001            5.7      1990\n",
       " 1  tt0000002            5.8       265\n",
       " 2  tt0000003            6.5      1867\n",
       " 3  tt0000004            5.5       177\n",
       " 4  tt0000005            6.2      2653)"
      ]
     },
     "execution_count": 79,
     "metadata": {},
     "output_type": "execute_result"
    }
   ],
   "source": [
    "# Load the three files into respective dataframes\n",
    "url_akas = \"https://datasets.imdbws.com/title.akas.tsv.gz\"\n",
    "url_basics = \"https://datasets.imdbws.com/title.basics.tsv.gz\"\n",
    "url_ratings = \"https://datasets.imdbws.com/title.ratings.tsv.gz\"\n",
    "\n",
    "akas_df = pd.read_csv(url_akas, compression='gzip', sep='\\t', low_memory=False)\n",
    "basics_df = pd.read_csv(url_basics, compression='gzip', sep='\\t', low_memory=False)\n",
    "ratings_df = pd.read_csv(url_ratings, compression='gzip', sep='\\t', low_memory=False)\n",
    "\n",
    "# Display the first few rows of each dataframe to understand their structure\n",
    "akas_df.head(), basics_df.head(), ratings_df.head()\n"
   ]
  },
  {
   "cell_type": "code",
   "execution_count": 80,
   "id": "6ff6ccc2",
   "metadata": {
    "ExecuteTime": {
     "end_time": "2023-09-01T02:38:21.888986Z",
     "start_time": "2023-09-01T02:38:20.417993Z"
    }
   },
   "outputs": [],
   "source": [
    "akas_df = akas_df[(akas_df['region'] == 'US')]"
   ]
  },
  {
   "cell_type": "code",
   "execution_count": 81,
   "id": "85ee8e2c",
   "metadata": {
    "ExecuteTime": {
     "end_time": "2023-09-01T02:38:22.921848Z",
     "start_time": "2023-09-01T02:38:21.890164Z"
    }
   },
   "outputs": [
    {
     "data": {
      "text/html": [
       "<div>\n",
       "<style scoped>\n",
       "    .dataframe tbody tr th:only-of-type {\n",
       "        vertical-align: middle;\n",
       "    }\n",
       "\n",
       "    .dataframe tbody tr th {\n",
       "        vertical-align: top;\n",
       "    }\n",
       "\n",
       "    .dataframe thead th {\n",
       "        text-align: right;\n",
       "    }\n",
       "</style>\n",
       "<table border=\"1\" class=\"dataframe\">\n",
       "  <thead>\n",
       "    <tr style=\"text-align: right;\">\n",
       "      <th></th>\n",
       "      <th>titleId</th>\n",
       "      <th>ordering</th>\n",
       "      <th>title</th>\n",
       "      <th>region</th>\n",
       "      <th>language</th>\n",
       "      <th>types</th>\n",
       "      <th>attributes</th>\n",
       "      <th>isOriginalTitle</th>\n",
       "    </tr>\n",
       "  </thead>\n",
       "  <tbody>\n",
       "    <tr>\n",
       "      <th>5</th>\n",
       "      <td>tt0000001</td>\n",
       "      <td>6</td>\n",
       "      <td>Carmencita</td>\n",
       "      <td>US</td>\n",
       "      <td>NaN</td>\n",
       "      <td>imdbDisplay</td>\n",
       "      <td>NaN</td>\n",
       "      <td>0</td>\n",
       "    </tr>\n",
       "    <tr>\n",
       "      <th>14</th>\n",
       "      <td>tt0000002</td>\n",
       "      <td>7</td>\n",
       "      <td>The Clown and His Dogs</td>\n",
       "      <td>US</td>\n",
       "      <td>NaN</td>\n",
       "      <td>NaN</td>\n",
       "      <td>literal English title</td>\n",
       "      <td>0</td>\n",
       "    </tr>\n",
       "    <tr>\n",
       "      <th>33</th>\n",
       "      <td>tt0000005</td>\n",
       "      <td>10</td>\n",
       "      <td>Blacksmith Scene</td>\n",
       "      <td>US</td>\n",
       "      <td>NaN</td>\n",
       "      <td>imdbDisplay</td>\n",
       "      <td>NaN</td>\n",
       "      <td>0</td>\n",
       "    </tr>\n",
       "    <tr>\n",
       "      <th>36</th>\n",
       "      <td>tt0000005</td>\n",
       "      <td>1</td>\n",
       "      <td>Blacksmithing Scene</td>\n",
       "      <td>US</td>\n",
       "      <td>NaN</td>\n",
       "      <td>alternative</td>\n",
       "      <td>NaN</td>\n",
       "      <td>0</td>\n",
       "    </tr>\n",
       "    <tr>\n",
       "      <th>41</th>\n",
       "      <td>tt0000005</td>\n",
       "      <td>6</td>\n",
       "      <td>Blacksmith Scene #1</td>\n",
       "      <td>US</td>\n",
       "      <td>NaN</td>\n",
       "      <td>alternative</td>\n",
       "      <td>NaN</td>\n",
       "      <td>0</td>\n",
       "    </tr>\n",
       "  </tbody>\n",
       "</table>\n",
       "</div>"
      ],
      "text/plain": [
       "      titleId  ordering                   title region language        types  \\\n",
       "5   tt0000001         6              Carmencita     US      NaN  imdbDisplay   \n",
       "14  tt0000002         7  The Clown and His Dogs     US      NaN          NaN   \n",
       "33  tt0000005        10        Blacksmith Scene     US      NaN  imdbDisplay   \n",
       "36  tt0000005         1     Blacksmithing Scene     US      NaN  alternative   \n",
       "41  tt0000005         6     Blacksmith Scene #1     US      NaN  alternative   \n",
       "\n",
       "               attributes isOriginalTitle  \n",
       "5                     NaN               0  \n",
       "14  literal English title               0  \n",
       "33                    NaN               0  \n",
       "36                    NaN               0  \n",
       "41                    NaN               0  "
      ]
     },
     "execution_count": 81,
     "metadata": {},
     "output_type": "execute_result"
    }
   ],
   "source": [
    "akas_df.replace({'\\\\N': np.nan}, inplace=True)\n",
    "\n",
    "# Display the first few rows of the processed dataframe\n",
    "akas_df.head()\n"
   ]
  },
  {
   "cell_type": "code",
   "execution_count": 82,
   "id": "633d7a86",
   "metadata": {
    "ExecuteTime": {
     "end_time": "2023-09-01T02:38:25.188206Z",
     "start_time": "2023-09-01T02:38:22.923672Z"
    }
   },
   "outputs": [
    {
     "ename": "NameError",
     "evalue": "name 'keepers1' is not defined",
     "output_type": "error",
     "traceback": [
      "\u001b[0;31m---------------------------------------------------------------------------\u001b[0m",
      "\u001b[0;31mNameError\u001b[0m                                 Traceback (most recent call last)",
      "Cell \u001b[0;32mIn [82], line 3\u001b[0m\n\u001b[1;32m      1\u001b[0m \u001b[38;5;66;03m# Filter the basics table down to only include the US by using the filter akas dataframe\u001b[39;00m\n\u001b[1;32m      2\u001b[0m keepers \u001b[38;5;241m=\u001b[39mbasics_df[\u001b[38;5;124m'\u001b[39m\u001b[38;5;124mtconst\u001b[39m\u001b[38;5;124m'\u001b[39m]\u001b[38;5;241m.\u001b[39misin(akas_df[\u001b[38;5;124m'\u001b[39m\u001b[38;5;124mtitleId\u001b[39m\u001b[38;5;124m'\u001b[39m])\n\u001b[0;32m----> 3\u001b[0m \u001b[43mkeepers1\u001b[49m\n",
      "\u001b[0;31mNameError\u001b[0m: name 'keepers1' is not defined"
     ]
    }
   ],
   "source": [
    "# Filter the basics table down to only include the US by using the filter akas dataframe\n",
    "keepers =basics_df['tconst'].isin(akas_df['titleId'])\n",
    "keepers1\n",
    "\n"
   ]
  },
  {
   "cell_type": "code",
   "execution_count": null,
   "id": "4e3816dc",
   "metadata": {
    "ExecuteTime": {
     "end_time": "2023-09-01T02:38:25.189468Z",
     "start_time": "2023-09-01T02:38:25.189462Z"
    }
   },
   "outputs": [],
   "source": [
    "basics_df.replace({'\\\\N': np.nan}, inplace=True)\n",
    "\n",
    "# Display the first few rows of the processed dataframe\n",
    "basics_df.head()\n"
   ]
  },
  {
   "cell_type": "code",
   "execution_count": null,
   "id": "ffcc88de",
   "metadata": {
    "ExecuteTime": {
     "end_time": "2023-09-01T02:38:25.190294Z",
     "start_time": "2023-09-01T02:38:25.190287Z"
    }
   },
   "outputs": [],
   "source": [
    "basics_df = basics_df[keepers]\n",
    "basics_df\n",
    "\n"
   ]
  },
  {
   "cell_type": "code",
   "execution_count": null,
   "id": "1d1d4436",
   "metadata": {
    "ExecuteTime": {
     "end_time": "2023-09-01T02:38:25.190690Z",
     "start_time": "2023-09-01T02:38:25.190685Z"
    }
   },
   "outputs": [],
   "source": [
    "basics_df = basics_df[basics_df['runtimeMinutes'].notna()]\n",
    "\n",
    "basics_df = basics_df[basics_df['genres'].notna()]\n",
    "\n",
    "basics_df = basics_df[basics_df.titleType == 'movie']\n",
    "\n",
    "basics_df = basics_df[basics_df['startYear'].notna()]\n",
    "\n",
    "basics_df = basics_df[basics_df['startYear'].astype(float)]\n",
    "basics_df.dtypes"
   ]
  },
  {
   "cell_type": "code",
   "execution_count": null,
   "id": "69cd9d20",
   "metadata": {
    "ExecuteTime": {
     "end_time": "2023-09-01T02:38:25.191273Z",
     "start_time": "2023-09-01T02:38:25.191268Z"
    }
   },
   "outputs": [],
   "source": [
    "basics_df"
   ]
  },
  {
   "cell_type": "code",
   "execution_count": null,
   "id": "183231d7",
   "metadata": {
    "ExecuteTime": {
     "end_time": "2023-09-01T02:38:25.191976Z",
     "start_time": "2023-09-01T02:38:25.191971Z"
    }
   },
   "outputs": [],
   "source": [
    "# Filtering the basics dataframe using startYear column to keep movies between 2000 and 2021 inclusive\n",
    "basics_df = basics_df[(basics_df['startYear'] >= 2000) & (basics_df['startYear'] <= 2021)]\n"
   ]
  },
  {
   "cell_type": "code",
   "execution_count": null,
   "id": "bdfb0804",
   "metadata": {
    "ExecuteTime": {
     "end_time": "2023-09-01T02:38:25.192334Z",
     "start_time": "2023-09-01T02:38:25.192329Z"
    }
   },
   "outputs": [],
   "source": [
    "# Exclude movies that are included in the documentary category.\n",
    "is_documentary = df['genres'].str.contains('documentary',case=False)\n",
    "df = df[~is_documentary]\n"
   ]
  },
  {
   "cell_type": "code",
   "execution_count": null,
   "id": "a0fcb974",
   "metadata": {
    "ExecuteTime": {
     "end_time": "2023-09-01T02:38:25.192975Z",
     "start_time": "2023-09-01T02:38:25.192969Z"
    }
   },
   "outputs": [],
   "source": [
    "ratings_df.replace({'\\\\N': np.nan}, inplace=True)"
   ]
  },
  {
   "cell_type": "code",
   "execution_count": null,
   "id": "92de83af",
   "metadata": {
    "ExecuteTime": {
     "end_time": "2023-09-01T02:38:25.193661Z",
     "start_time": "2023-09-01T02:38:25.193654Z"
    }
   },
   "outputs": [],
   "source": [
    "# Filter the basics table down to only include the US by using the filter akas dataframe\n",
    "keepers =ratings_df['tconst'].isin(akas_df['titleId'])\n",
    "keepers2\n"
   ]
  },
  {
   "cell_type": "code",
   "execution_count": null,
   "id": "16d10b6f",
   "metadata": {
    "ExecuteTime": {
     "end_time": "2023-09-01T02:38:25.194193Z",
     "start_time": "2023-09-01T02:38:25.194188Z"
    }
   },
   "outputs": [],
   "source": [
    "# Save Dataframe\n",
    "akas_df.to_csv(\"Data/title_akas.csv.gz\", compression='gzip', index=False)\n",
    "\n",
    "# Open saved file\n",
    "akas_df = pd.read_csv(\"Data/title_akas.csv.gz\", low_memory=False)\n",
    "akas_df.head()"
   ]
  },
  {
   "cell_type": "code",
   "execution_count": null,
   "id": "16db1d98",
   "metadata": {
    "ExecuteTime": {
     "end_time": "2023-09-01T02:38:25.195264Z",
     "start_time": "2023-09-01T02:38:25.195258Z"
    }
   },
   "outputs": [],
   "source": [
    "basics_df.to_csv(\"Data/title.basics.csv.gz\", compression='gzip' , index=False)\n",
    "\n",
    "#open saved file\n",
    "basics_df = pd.read_csv(\"Data/title_basics.csv.gz\", low_memory=False)\n",
    "basics_df.head()\n"
   ]
  },
  {
   "cell_type": "code",
   "execution_count": null,
   "id": "a31148d8",
   "metadata": {
    "ExecuteTime": {
     "end_time": "2023-09-01T02:38:25.195723Z",
     "start_time": "2023-09-01T02:38:25.195718Z"
    }
   },
   "outputs": [],
   "source": [
    "ratings_df.to_csv(\"Data/title.basics.csv.gz\", compression='gzip' , index=False)\n",
    "\n",
    "#open saved file\n",
    "ratings_df = pd.read_csv(\"Data/title_basics.csv.gz\", low_memory=False)\n",
    "ratings_df.head()"
   ]
  }
 ],
 "metadata": {
  "hide_input": false,
  "kernelspec": {
   "display_name": "Python (dojo-env)",
   "language": "python",
   "name": "dojo-env"
  },
  "language_info": {
   "codemirror_mode": {
    "name": "ipython",
    "version": 3
   },
   "file_extension": ".py",
   "mimetype": "text/x-python",
   "name": "python",
   "nbconvert_exporter": "python",
   "pygments_lexer": "ipython3",
   "version": "3.9.15"
  },
  "nbTranslate": {
   "displayLangs": [
    "*"
   ],
   "hotkey": "alt-t",
   "langInMainMenu": true,
   "sourceLang": "en",
   "targetLang": "fr",
   "useGoogleTranslate": true
  },
  "toc": {
   "base_numbering": 1,
   "nav_menu": {},
   "number_sections": true,
   "sideBar": true,
   "skip_h1_title": false,
   "title_cell": "Table of Contents",
   "title_sidebar": "Contents",
   "toc_cell": false,
   "toc_position": {},
   "toc_section_display": true,
   "toc_window_display": false
  }
 },
 "nbformat": 4,
 "nbformat_minor": 5
}

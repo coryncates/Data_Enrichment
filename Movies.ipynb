{
 "cells": [
  {
   "cell_type": "code",
   "execution_count": 84,
   "id": "b9a07453",
   "metadata": {
    "ExecuteTime": {
     "end_time": "2023-09-01T02:45:58.366267Z",
     "start_time": "2023-09-01T02:45:58.363745Z"
    }
   },
   "outputs": [
    {
     "data": {
      "text/plain": [
       "['.DS_Store',\n",
       " 'title.basics.tsv.gz',\n",
       " 'title.ratings.tsv.gz',\n",
       " 'title-akas-us-only.csv',\n",
       " 'title_akas.csv.gz']"
      ]
     },
     "execution_count": 84,
     "metadata": {},
     "output_type": "execute_result"
    }
   ],
   "source": [
    "import pandas as pd\n",
    "import numpy as np\n",
    "\n",
    "# example making new folder with os\n",
    "import os\n",
    "os.makedirs('Data/',exist_ok=True) # Confirm folder created\n",
    "os.listdir(\"Data/\")\n",
    "\n"
   ]
  },
  {
   "cell_type": "markdown",
   "id": "2188d06a",
   "metadata": {},
   "source": []
  },
  {
   "cell_type": "code",
   "execution_count": 85,
   "id": "a1748ef2",
   "metadata": {
    "ExecuteTime": {
     "end_time": "2023-09-01T02:46:50.988576Z",
     "start_time": "2023-09-01T02:45:58.367118Z"
    }
   },
   "outputs": [
    {
     "data": {
      "text/plain": [
       "(     titleId  ordering                      title region language  \\\n",
       " 0  tt0000001         1                 Карменсіта     UA       \\N   \n",
       " 1  tt0000001         2                 Carmencita     DE       \\N   \n",
       " 2  tt0000001         3  Carmencita - spanyol tánc     HU       \\N   \n",
       " 3  tt0000001         4                 Καρμενσίτα     GR       \\N   \n",
       " 4  tt0000001         5                 Карменсита     RU       \\N   \n",
       " \n",
       "          types     attributes isOriginalTitle  \n",
       " 0  imdbDisplay             \\N               0  \n",
       " 1           \\N  literal title               0  \n",
       " 2  imdbDisplay             \\N               0  \n",
       " 3  imdbDisplay             \\N               0  \n",
       " 4  imdbDisplay             \\N               0  ,\n",
       "       tconst titleType            primaryTitle           originalTitle  \\\n",
       " 0  tt0000001     short              Carmencita              Carmencita   \n",
       " 1  tt0000002     short  Le clown et ses chiens  Le clown et ses chiens   \n",
       " 2  tt0000003     short          Pauvre Pierrot          Pauvre Pierrot   \n",
       " 3  tt0000004     short             Un bon bock             Un bon bock   \n",
       " 4  tt0000005     short        Blacksmith Scene        Blacksmith Scene   \n",
       " \n",
       "   isAdult startYear endYear runtimeMinutes                    genres  \n",
       " 0       0      1894      \\N              1         Documentary,Short  \n",
       " 1       0      1892      \\N              5           Animation,Short  \n",
       " 2       0      1892      \\N              4  Animation,Comedy,Romance  \n",
       " 3       0      1892      \\N             12           Animation,Short  \n",
       " 4       0      1893      \\N              1              Comedy,Short  ,\n",
       "       tconst  averageRating  numVotes\n",
       " 0  tt0000001            5.7      1990\n",
       " 1  tt0000002            5.8       265\n",
       " 2  tt0000003            6.5      1867\n",
       " 3  tt0000004            5.5       177\n",
       " 4  tt0000005            6.2      2653)"
      ]
     },
     "execution_count": 85,
     "metadata": {},
     "output_type": "execute_result"
    }
   ],
   "source": [
    "# Load the three files into respective dataframes\n",
    "url_akas = \"https://datasets.imdbws.com/title.akas.tsv.gz\"\n",
    "url_basics = \"https://datasets.imdbws.com/title.basics.tsv.gz\"\n",
    "url_ratings = \"https://datasets.imdbws.com/title.ratings.tsv.gz\"\n",
    "\n",
    "akas_df = pd.read_csv(url_akas, compression='gzip', sep='\\t', low_memory=False)\n",
    "basics_df = pd.read_csv(url_basics, compression='gzip', sep='\\t', low_memory=False)\n",
    "ratings_df = pd.read_csv(url_ratings, compression='gzip', sep='\\t', low_memory=False)\n",
    "\n",
    "# Display the first few rows of each dataframe to understand their structure\n",
    "akas_df.head(), basics_df.head(), ratings_df.head()\n"
   ]
  },
  {
   "cell_type": "code",
   "execution_count": 86,
   "id": "6ff6ccc2",
   "metadata": {
    "ExecuteTime": {
     "end_time": "2023-09-01T02:46:52.294569Z",
     "start_time": "2023-09-01T02:46:50.990020Z"
    }
   },
   "outputs": [],
   "source": [
    "akas_df = akas_df[(akas_df['region'] == 'US')]"
   ]
  },
  {
   "cell_type": "code",
   "execution_count": 87,
   "id": "85ee8e2c",
   "metadata": {
    "ExecuteTime": {
     "end_time": "2023-09-01T02:46:53.323247Z",
     "start_time": "2023-09-01T02:46:52.295443Z"
    }
   },
   "outputs": [
    {
     "data": {
      "text/html": [
       "<div>\n",
       "<style scoped>\n",
       "    .dataframe tbody tr th:only-of-type {\n",
       "        vertical-align: middle;\n",
       "    }\n",
       "\n",
       "    .dataframe tbody tr th {\n",
       "        vertical-align: top;\n",
       "    }\n",
       "\n",
       "    .dataframe thead th {\n",
       "        text-align: right;\n",
       "    }\n",
       "</style>\n",
       "<table border=\"1\" class=\"dataframe\">\n",
       "  <thead>\n",
       "    <tr style=\"text-align: right;\">\n",
       "      <th></th>\n",
       "      <th>titleId</th>\n",
       "      <th>ordering</th>\n",
       "      <th>title</th>\n",
       "      <th>region</th>\n",
       "      <th>language</th>\n",
       "      <th>types</th>\n",
       "      <th>attributes</th>\n",
       "      <th>isOriginalTitle</th>\n",
       "    </tr>\n",
       "  </thead>\n",
       "  <tbody>\n",
       "    <tr>\n",
       "      <th>5</th>\n",
       "      <td>tt0000001</td>\n",
       "      <td>6</td>\n",
       "      <td>Carmencita</td>\n",
       "      <td>US</td>\n",
       "      <td>NaN</td>\n",
       "      <td>imdbDisplay</td>\n",
       "      <td>NaN</td>\n",
       "      <td>0</td>\n",
       "    </tr>\n",
       "    <tr>\n",
       "      <th>14</th>\n",
       "      <td>tt0000002</td>\n",
       "      <td>7</td>\n",
       "      <td>The Clown and His Dogs</td>\n",
       "      <td>US</td>\n",
       "      <td>NaN</td>\n",
       "      <td>NaN</td>\n",
       "      <td>literal English title</td>\n",
       "      <td>0</td>\n",
       "    </tr>\n",
       "    <tr>\n",
       "      <th>33</th>\n",
       "      <td>tt0000005</td>\n",
       "      <td>10</td>\n",
       "      <td>Blacksmith Scene</td>\n",
       "      <td>US</td>\n",
       "      <td>NaN</td>\n",
       "      <td>imdbDisplay</td>\n",
       "      <td>NaN</td>\n",
       "      <td>0</td>\n",
       "    </tr>\n",
       "    <tr>\n",
       "      <th>36</th>\n",
       "      <td>tt0000005</td>\n",
       "      <td>1</td>\n",
       "      <td>Blacksmithing Scene</td>\n",
       "      <td>US</td>\n",
       "      <td>NaN</td>\n",
       "      <td>alternative</td>\n",
       "      <td>NaN</td>\n",
       "      <td>0</td>\n",
       "    </tr>\n",
       "    <tr>\n",
       "      <th>41</th>\n",
       "      <td>tt0000005</td>\n",
       "      <td>6</td>\n",
       "      <td>Blacksmith Scene #1</td>\n",
       "      <td>US</td>\n",
       "      <td>NaN</td>\n",
       "      <td>alternative</td>\n",
       "      <td>NaN</td>\n",
       "      <td>0</td>\n",
       "    </tr>\n",
       "  </tbody>\n",
       "</table>\n",
       "</div>"
      ],
      "text/plain": [
       "      titleId  ordering                   title region language        types  \\\n",
       "5   tt0000001         6              Carmencita     US      NaN  imdbDisplay   \n",
       "14  tt0000002         7  The Clown and His Dogs     US      NaN          NaN   \n",
       "33  tt0000005        10        Blacksmith Scene     US      NaN  imdbDisplay   \n",
       "36  tt0000005         1     Blacksmithing Scene     US      NaN  alternative   \n",
       "41  tt0000005         6     Blacksmith Scene #1     US      NaN  alternative   \n",
       "\n",
       "               attributes isOriginalTitle  \n",
       "5                     NaN               0  \n",
       "14  literal English title               0  \n",
       "33                    NaN               0  \n",
       "36                    NaN               0  \n",
       "41                    NaN               0  "
      ]
     },
     "execution_count": 87,
     "metadata": {},
     "output_type": "execute_result"
    }
   ],
   "source": [
    "akas_df.replace({'\\\\N': np.nan}, inplace=True)\n",
    "\n",
    "# Display the first few rows of the processed dataframe\n",
    "akas_df.head()\n"
   ]
  },
  {
   "cell_type": "code",
   "execution_count": 88,
   "id": "633d7a86",
   "metadata": {
    "ExecuteTime": {
     "end_time": "2023-09-01T02:46:55.723105Z",
     "start_time": "2023-09-01T02:46:53.324047Z"
    }
   },
   "outputs": [
    {
     "data": {
      "text/plain": [
       "0            True\n",
       "1            True\n",
       "2           False\n",
       "3           False\n",
       "4            True\n",
       "            ...  \n",
       "10122740    False\n",
       "10122741    False\n",
       "10122742    False\n",
       "10122743    False\n",
       "10122744    False\n",
       "Name: tconst, Length: 10122745, dtype: bool"
      ]
     },
     "execution_count": 88,
     "metadata": {},
     "output_type": "execute_result"
    }
   ],
   "source": [
    "# Filter the basics table down to only include the US by using the filter akas dataframe\n",
    "keepers1 =basics_df['tconst'].isin(akas_df['titleId'])\n",
    "keepers1\n",
    "\n"
   ]
  },
  {
   "cell_type": "code",
   "execution_count": 89,
   "id": "4e3816dc",
   "metadata": {
    "ExecuteTime": {
     "end_time": "2023-09-01T02:47:04.263911Z",
     "start_time": "2023-09-01T02:46:55.723940Z"
    }
   },
   "outputs": [
    {
     "data": {
      "text/html": [
       "<div>\n",
       "<style scoped>\n",
       "    .dataframe tbody tr th:only-of-type {\n",
       "        vertical-align: middle;\n",
       "    }\n",
       "\n",
       "    .dataframe tbody tr th {\n",
       "        vertical-align: top;\n",
       "    }\n",
       "\n",
       "    .dataframe thead th {\n",
       "        text-align: right;\n",
       "    }\n",
       "</style>\n",
       "<table border=\"1\" class=\"dataframe\">\n",
       "  <thead>\n",
       "    <tr style=\"text-align: right;\">\n",
       "      <th></th>\n",
       "      <th>tconst</th>\n",
       "      <th>titleType</th>\n",
       "      <th>primaryTitle</th>\n",
       "      <th>originalTitle</th>\n",
       "      <th>isAdult</th>\n",
       "      <th>startYear</th>\n",
       "      <th>endYear</th>\n",
       "      <th>runtimeMinutes</th>\n",
       "      <th>genres</th>\n",
       "    </tr>\n",
       "  </thead>\n",
       "  <tbody>\n",
       "    <tr>\n",
       "      <th>0</th>\n",
       "      <td>tt0000001</td>\n",
       "      <td>short</td>\n",
       "      <td>Carmencita</td>\n",
       "      <td>Carmencita</td>\n",
       "      <td>0</td>\n",
       "      <td>1894</td>\n",
       "      <td>NaN</td>\n",
       "      <td>1</td>\n",
       "      <td>Documentary,Short</td>\n",
       "    </tr>\n",
       "    <tr>\n",
       "      <th>1</th>\n",
       "      <td>tt0000002</td>\n",
       "      <td>short</td>\n",
       "      <td>Le clown et ses chiens</td>\n",
       "      <td>Le clown et ses chiens</td>\n",
       "      <td>0</td>\n",
       "      <td>1892</td>\n",
       "      <td>NaN</td>\n",
       "      <td>5</td>\n",
       "      <td>Animation,Short</td>\n",
       "    </tr>\n",
       "    <tr>\n",
       "      <th>2</th>\n",
       "      <td>tt0000003</td>\n",
       "      <td>short</td>\n",
       "      <td>Pauvre Pierrot</td>\n",
       "      <td>Pauvre Pierrot</td>\n",
       "      <td>0</td>\n",
       "      <td>1892</td>\n",
       "      <td>NaN</td>\n",
       "      <td>4</td>\n",
       "      <td>Animation,Comedy,Romance</td>\n",
       "    </tr>\n",
       "    <tr>\n",
       "      <th>3</th>\n",
       "      <td>tt0000004</td>\n",
       "      <td>short</td>\n",
       "      <td>Un bon bock</td>\n",
       "      <td>Un bon bock</td>\n",
       "      <td>0</td>\n",
       "      <td>1892</td>\n",
       "      <td>NaN</td>\n",
       "      <td>12</td>\n",
       "      <td>Animation,Short</td>\n",
       "    </tr>\n",
       "    <tr>\n",
       "      <th>4</th>\n",
       "      <td>tt0000005</td>\n",
       "      <td>short</td>\n",
       "      <td>Blacksmith Scene</td>\n",
       "      <td>Blacksmith Scene</td>\n",
       "      <td>0</td>\n",
       "      <td>1893</td>\n",
       "      <td>NaN</td>\n",
       "      <td>1</td>\n",
       "      <td>Comedy,Short</td>\n",
       "    </tr>\n",
       "  </tbody>\n",
       "</table>\n",
       "</div>"
      ],
      "text/plain": [
       "      tconst titleType            primaryTitle           originalTitle  \\\n",
       "0  tt0000001     short              Carmencita              Carmencita   \n",
       "1  tt0000002     short  Le clown et ses chiens  Le clown et ses chiens   \n",
       "2  tt0000003     short          Pauvre Pierrot          Pauvre Pierrot   \n",
       "3  tt0000004     short             Un bon bock             Un bon bock   \n",
       "4  tt0000005     short        Blacksmith Scene        Blacksmith Scene   \n",
       "\n",
       "  isAdult startYear endYear runtimeMinutes                    genres  \n",
       "0       0      1894     NaN              1         Documentary,Short  \n",
       "1       0      1892     NaN              5           Animation,Short  \n",
       "2       0      1892     NaN              4  Animation,Comedy,Romance  \n",
       "3       0      1892     NaN             12           Animation,Short  \n",
       "4       0      1893     NaN              1              Comedy,Short  "
      ]
     },
     "execution_count": 89,
     "metadata": {},
     "output_type": "execute_result"
    }
   ],
   "source": [
    "basics_df.replace({'\\\\N': np.nan}, inplace=True)\n",
    "\n",
    "# Display the first few rows of the processed dataframe\n",
    "basics_df.head()\n"
   ]
  },
  {
   "cell_type": "code",
   "execution_count": 90,
   "id": "ffcc88de",
   "metadata": {
    "ExecuteTime": {
     "end_time": "2023-09-01T02:47:04.390486Z",
     "start_time": "2023-09-01T02:47:04.264736Z"
    }
   },
   "outputs": [
    {
     "data": {
      "text/html": [
       "<div>\n",
       "<style scoped>\n",
       "    .dataframe tbody tr th:only-of-type {\n",
       "        vertical-align: middle;\n",
       "    }\n",
       "\n",
       "    .dataframe tbody tr th {\n",
       "        vertical-align: top;\n",
       "    }\n",
       "\n",
       "    .dataframe thead th {\n",
       "        text-align: right;\n",
       "    }\n",
       "</style>\n",
       "<table border=\"1\" class=\"dataframe\">\n",
       "  <thead>\n",
       "    <tr style=\"text-align: right;\">\n",
       "      <th></th>\n",
       "      <th>tconst</th>\n",
       "      <th>titleType</th>\n",
       "      <th>primaryTitle</th>\n",
       "      <th>originalTitle</th>\n",
       "      <th>isAdult</th>\n",
       "      <th>startYear</th>\n",
       "      <th>endYear</th>\n",
       "      <th>runtimeMinutes</th>\n",
       "      <th>genres</th>\n",
       "    </tr>\n",
       "  </thead>\n",
       "  <tbody>\n",
       "    <tr>\n",
       "      <th>0</th>\n",
       "      <td>tt0000001</td>\n",
       "      <td>short</td>\n",
       "      <td>Carmencita</td>\n",
       "      <td>Carmencita</td>\n",
       "      <td>0</td>\n",
       "      <td>1894</td>\n",
       "      <td>NaN</td>\n",
       "      <td>1</td>\n",
       "      <td>Documentary,Short</td>\n",
       "    </tr>\n",
       "    <tr>\n",
       "      <th>1</th>\n",
       "      <td>tt0000002</td>\n",
       "      <td>short</td>\n",
       "      <td>Le clown et ses chiens</td>\n",
       "      <td>Le clown et ses chiens</td>\n",
       "      <td>0</td>\n",
       "      <td>1892</td>\n",
       "      <td>NaN</td>\n",
       "      <td>5</td>\n",
       "      <td>Animation,Short</td>\n",
       "    </tr>\n",
       "    <tr>\n",
       "      <th>4</th>\n",
       "      <td>tt0000005</td>\n",
       "      <td>short</td>\n",
       "      <td>Blacksmith Scene</td>\n",
       "      <td>Blacksmith Scene</td>\n",
       "      <td>0</td>\n",
       "      <td>1893</td>\n",
       "      <td>NaN</td>\n",
       "      <td>1</td>\n",
       "      <td>Comedy,Short</td>\n",
       "    </tr>\n",
       "    <tr>\n",
       "      <th>5</th>\n",
       "      <td>tt0000006</td>\n",
       "      <td>short</td>\n",
       "      <td>Chinese Opium Den</td>\n",
       "      <td>Chinese Opium Den</td>\n",
       "      <td>0</td>\n",
       "      <td>1894</td>\n",
       "      <td>NaN</td>\n",
       "      <td>1</td>\n",
       "      <td>Short</td>\n",
       "    </tr>\n",
       "    <tr>\n",
       "      <th>6</th>\n",
       "      <td>tt0000007</td>\n",
       "      <td>short</td>\n",
       "      <td>Corbett and Courtney Before the Kinetograph</td>\n",
       "      <td>Corbett and Courtney Before the Kinetograph</td>\n",
       "      <td>0</td>\n",
       "      <td>1894</td>\n",
       "      <td>NaN</td>\n",
       "      <td>1</td>\n",
       "      <td>Short,Sport</td>\n",
       "    </tr>\n",
       "    <tr>\n",
       "      <th>...</th>\n",
       "      <td>...</td>\n",
       "      <td>...</td>\n",
       "      <td>...</td>\n",
       "      <td>...</td>\n",
       "      <td>...</td>\n",
       "      <td>...</td>\n",
       "      <td>...</td>\n",
       "      <td>...</td>\n",
       "      <td>...</td>\n",
       "    </tr>\n",
       "    <tr>\n",
       "      <th>10122606</th>\n",
       "      <td>tt9916560</td>\n",
       "      <td>tvMovie</td>\n",
       "      <td>March of Dimes Presents: Once Upon a Dime</td>\n",
       "      <td>March of Dimes Presents: Once Upon a Dime</td>\n",
       "      <td>0</td>\n",
       "      <td>1963</td>\n",
       "      <td>NaN</td>\n",
       "      <td>58</td>\n",
       "      <td>Family</td>\n",
       "    </tr>\n",
       "    <tr>\n",
       "      <th>10122635</th>\n",
       "      <td>tt9916620</td>\n",
       "      <td>movie</td>\n",
       "      <td>The Copeland Case</td>\n",
       "      <td>The Copeland Case</td>\n",
       "      <td>0</td>\n",
       "      <td>NaN</td>\n",
       "      <td>NaN</td>\n",
       "      <td>NaN</td>\n",
       "      <td>Drama</td>\n",
       "    </tr>\n",
       "    <tr>\n",
       "      <th>10122673</th>\n",
       "      <td>tt9916702</td>\n",
       "      <td>short</td>\n",
       "      <td>Loving London: The Playground</td>\n",
       "      <td>Loving London: The Playground</td>\n",
       "      <td>0</td>\n",
       "      <td>NaN</td>\n",
       "      <td>NaN</td>\n",
       "      <td>NaN</td>\n",
       "      <td>Drama,Short</td>\n",
       "    </tr>\n",
       "    <tr>\n",
       "      <th>10122696</th>\n",
       "      <td>tt9916756</td>\n",
       "      <td>short</td>\n",
       "      <td>Pretty Pretty Black Girl</td>\n",
       "      <td>Pretty Pretty Black Girl</td>\n",
       "      <td>0</td>\n",
       "      <td>2019</td>\n",
       "      <td>NaN</td>\n",
       "      <td>NaN</td>\n",
       "      <td>Short</td>\n",
       "    </tr>\n",
       "    <tr>\n",
       "      <th>10122700</th>\n",
       "      <td>tt9916764</td>\n",
       "      <td>short</td>\n",
       "      <td>38</td>\n",
       "      <td>38</td>\n",
       "      <td>0</td>\n",
       "      <td>2018</td>\n",
       "      <td>NaN</td>\n",
       "      <td>NaN</td>\n",
       "      <td>Short</td>\n",
       "    </tr>\n",
       "  </tbody>\n",
       "</table>\n",
       "<p>1375585 rows × 9 columns</p>\n",
       "</div>"
      ],
      "text/plain": [
       "             tconst titleType                                 primaryTitle  \\\n",
       "0         tt0000001     short                                   Carmencita   \n",
       "1         tt0000002     short                       Le clown et ses chiens   \n",
       "4         tt0000005     short                             Blacksmith Scene   \n",
       "5         tt0000006     short                            Chinese Opium Den   \n",
       "6         tt0000007     short  Corbett and Courtney Before the Kinetograph   \n",
       "...             ...       ...                                          ...   \n",
       "10122606  tt9916560   tvMovie    March of Dimes Presents: Once Upon a Dime   \n",
       "10122635  tt9916620     movie                            The Copeland Case   \n",
       "10122673  tt9916702     short                Loving London: The Playground   \n",
       "10122696  tt9916756     short                     Pretty Pretty Black Girl   \n",
       "10122700  tt9916764     short                                           38   \n",
       "\n",
       "                                        originalTitle isAdult startYear  \\\n",
       "0                                          Carmencita       0      1894   \n",
       "1                              Le clown et ses chiens       0      1892   \n",
       "4                                    Blacksmith Scene       0      1893   \n",
       "5                                   Chinese Opium Den       0      1894   \n",
       "6         Corbett and Courtney Before the Kinetograph       0      1894   \n",
       "...                                               ...     ...       ...   \n",
       "10122606    March of Dimes Presents: Once Upon a Dime       0      1963   \n",
       "10122635                            The Copeland Case       0       NaN   \n",
       "10122673                Loving London: The Playground       0       NaN   \n",
       "10122696                     Pretty Pretty Black Girl       0      2019   \n",
       "10122700                                           38       0      2018   \n",
       "\n",
       "         endYear runtimeMinutes             genres  \n",
       "0            NaN              1  Documentary,Short  \n",
       "1            NaN              5    Animation,Short  \n",
       "4            NaN              1       Comedy,Short  \n",
       "5            NaN              1              Short  \n",
       "6            NaN              1        Short,Sport  \n",
       "...          ...            ...                ...  \n",
       "10122606     NaN             58             Family  \n",
       "10122635     NaN            NaN              Drama  \n",
       "10122673     NaN            NaN        Drama,Short  \n",
       "10122696     NaN            NaN              Short  \n",
       "10122700     NaN            NaN              Short  \n",
       "\n",
       "[1375585 rows x 9 columns]"
      ]
     },
     "execution_count": 90,
     "metadata": {},
     "output_type": "execute_result"
    }
   ],
   "source": [
    "basics_df = basics_df[keepers]\n",
    "basics_df\n",
    "\n"
   ]
  },
  {
   "cell_type": "code",
   "execution_count": 91,
   "id": "1d1d4436",
   "metadata": {
    "ExecuteTime": {
     "end_time": "2023-09-01T02:47:04.704048Z",
     "start_time": "2023-09-01T02:47:04.391453Z"
    }
   },
   "outputs": [
    {
     "ename": "KeyError",
     "evalue": "\"None of [Float64Index([1894.0, 1897.0, 1906.0, 1907.0, 1908.0, 1909.0, 1911.0, 1911.0,\\n              1911.0, 1913.0,\\n              ...\\n              2017.0, 2018.0, 2015.0, 2019.0, 2021.0, 2019.0, 2019.0, 2019.0,\\n              2020.0, 2020.0],\\n             dtype='float64', length=201236)] are in the [columns]\"",
     "output_type": "error",
     "traceback": [
      "\u001b[0;31m---------------------------------------------------------------------------\u001b[0m",
      "\u001b[0;31mKeyError\u001b[0m                                  Traceback (most recent call last)",
      "Cell \u001b[0;32mIn [91], line 9\u001b[0m\n\u001b[1;32m      5\u001b[0m basics_df \u001b[38;5;241m=\u001b[39m basics_df[basics_df\u001b[38;5;241m.\u001b[39mtitleType \u001b[38;5;241m==\u001b[39m \u001b[38;5;124m'\u001b[39m\u001b[38;5;124mmovie\u001b[39m\u001b[38;5;124m'\u001b[39m]\n\u001b[1;32m      7\u001b[0m basics_df \u001b[38;5;241m=\u001b[39m basics_df[basics_df[\u001b[38;5;124m'\u001b[39m\u001b[38;5;124mstartYear\u001b[39m\u001b[38;5;124m'\u001b[39m]\u001b[38;5;241m.\u001b[39mnotna()]\n\u001b[0;32m----> 9\u001b[0m basics_df \u001b[38;5;241m=\u001b[39m \u001b[43mbasics_df\u001b[49m\u001b[43m[\u001b[49m\u001b[43mbasics_df\u001b[49m\u001b[43m[\u001b[49m\u001b[38;5;124;43m'\u001b[39;49m\u001b[38;5;124;43mstartYear\u001b[39;49m\u001b[38;5;124;43m'\u001b[39;49m\u001b[43m]\u001b[49m\u001b[38;5;241;43m.\u001b[39;49m\u001b[43mastype\u001b[49m\u001b[43m(\u001b[49m\u001b[38;5;28;43mfloat\u001b[39;49m\u001b[43m)\u001b[49m\u001b[43m]\u001b[49m\n\u001b[1;32m     10\u001b[0m basics_df\u001b[38;5;241m.\u001b[39mdtypes\n",
      "File \u001b[0;32m/usr/local/Caskroom/miniforge/base/envs/dojo-env/lib/python3.9/site-packages/pandas/core/frame.py:3813\u001b[0m, in \u001b[0;36mDataFrame.__getitem__\u001b[0;34m(self, key)\u001b[0m\n\u001b[1;32m   3811\u001b[0m     \u001b[38;5;28;01mif\u001b[39;00m is_iterator(key):\n\u001b[1;32m   3812\u001b[0m         key \u001b[38;5;241m=\u001b[39m \u001b[38;5;28mlist\u001b[39m(key)\n\u001b[0;32m-> 3813\u001b[0m     indexer \u001b[38;5;241m=\u001b[39m \u001b[38;5;28;43mself\u001b[39;49m\u001b[38;5;241;43m.\u001b[39;49m\u001b[43mcolumns\u001b[49m\u001b[38;5;241;43m.\u001b[39;49m\u001b[43m_get_indexer_strict\u001b[49m\u001b[43m(\u001b[49m\u001b[43mkey\u001b[49m\u001b[43m,\u001b[49m\u001b[43m \u001b[49m\u001b[38;5;124;43m\"\u001b[39;49m\u001b[38;5;124;43mcolumns\u001b[39;49m\u001b[38;5;124;43m\"\u001b[39;49m\u001b[43m)\u001b[49m[\u001b[38;5;241m1\u001b[39m]\n\u001b[1;32m   3815\u001b[0m \u001b[38;5;66;03m# take() does not accept boolean indexers\u001b[39;00m\n\u001b[1;32m   3816\u001b[0m \u001b[38;5;28;01mif\u001b[39;00m \u001b[38;5;28mgetattr\u001b[39m(indexer, \u001b[38;5;124m\"\u001b[39m\u001b[38;5;124mdtype\u001b[39m\u001b[38;5;124m\"\u001b[39m, \u001b[38;5;28;01mNone\u001b[39;00m) \u001b[38;5;241m==\u001b[39m \u001b[38;5;28mbool\u001b[39m:\n",
      "File \u001b[0;32m/usr/local/Caskroom/miniforge/base/envs/dojo-env/lib/python3.9/site-packages/pandas/core/indexes/base.py:6070\u001b[0m, in \u001b[0;36mIndex._get_indexer_strict\u001b[0;34m(self, key, axis_name)\u001b[0m\n\u001b[1;32m   6067\u001b[0m \u001b[38;5;28;01melse\u001b[39;00m:\n\u001b[1;32m   6068\u001b[0m     keyarr, indexer, new_indexer \u001b[38;5;241m=\u001b[39m \u001b[38;5;28mself\u001b[39m\u001b[38;5;241m.\u001b[39m_reindex_non_unique(keyarr)\n\u001b[0;32m-> 6070\u001b[0m \u001b[38;5;28;43mself\u001b[39;49m\u001b[38;5;241;43m.\u001b[39;49m\u001b[43m_raise_if_missing\u001b[49m\u001b[43m(\u001b[49m\u001b[43mkeyarr\u001b[49m\u001b[43m,\u001b[49m\u001b[43m \u001b[49m\u001b[43mindexer\u001b[49m\u001b[43m,\u001b[49m\u001b[43m \u001b[49m\u001b[43maxis_name\u001b[49m\u001b[43m)\u001b[49m\n\u001b[1;32m   6072\u001b[0m keyarr \u001b[38;5;241m=\u001b[39m \u001b[38;5;28mself\u001b[39m\u001b[38;5;241m.\u001b[39mtake(indexer)\n\u001b[1;32m   6073\u001b[0m \u001b[38;5;28;01mif\u001b[39;00m \u001b[38;5;28misinstance\u001b[39m(key, Index):\n\u001b[1;32m   6074\u001b[0m     \u001b[38;5;66;03m# GH 42790 - Preserve name from an Index\u001b[39;00m\n",
      "File \u001b[0;32m/usr/local/Caskroom/miniforge/base/envs/dojo-env/lib/python3.9/site-packages/pandas/core/indexes/base.py:6130\u001b[0m, in \u001b[0;36mIndex._raise_if_missing\u001b[0;34m(self, key, indexer, axis_name)\u001b[0m\n\u001b[1;32m   6128\u001b[0m     \u001b[38;5;28;01mif\u001b[39;00m use_interval_msg:\n\u001b[1;32m   6129\u001b[0m         key \u001b[38;5;241m=\u001b[39m \u001b[38;5;28mlist\u001b[39m(key)\n\u001b[0;32m-> 6130\u001b[0m     \u001b[38;5;28;01mraise\u001b[39;00m \u001b[38;5;167;01mKeyError\u001b[39;00m(\u001b[38;5;124mf\u001b[39m\u001b[38;5;124m\"\u001b[39m\u001b[38;5;124mNone of [\u001b[39m\u001b[38;5;132;01m{\u001b[39;00mkey\u001b[38;5;132;01m}\u001b[39;00m\u001b[38;5;124m] are in the [\u001b[39m\u001b[38;5;132;01m{\u001b[39;00maxis_name\u001b[38;5;132;01m}\u001b[39;00m\u001b[38;5;124m]\u001b[39m\u001b[38;5;124m\"\u001b[39m)\n\u001b[1;32m   6132\u001b[0m not_found \u001b[38;5;241m=\u001b[39m \u001b[38;5;28mlist\u001b[39m(ensure_index(key)[missing_mask\u001b[38;5;241m.\u001b[39mnonzero()[\u001b[38;5;241m0\u001b[39m]]\u001b[38;5;241m.\u001b[39munique())\n\u001b[1;32m   6133\u001b[0m \u001b[38;5;28;01mraise\u001b[39;00m \u001b[38;5;167;01mKeyError\u001b[39;00m(\u001b[38;5;124mf\u001b[39m\u001b[38;5;124m\"\u001b[39m\u001b[38;5;132;01m{\u001b[39;00mnot_found\u001b[38;5;132;01m}\u001b[39;00m\u001b[38;5;124m not in index\u001b[39m\u001b[38;5;124m\"\u001b[39m)\n",
      "\u001b[0;31mKeyError\u001b[0m: \"None of [Float64Index([1894.0, 1897.0, 1906.0, 1907.0, 1908.0, 1909.0, 1911.0, 1911.0,\\n              1911.0, 1913.0,\\n              ...\\n              2017.0, 2018.0, 2015.0, 2019.0, 2021.0, 2019.0, 2019.0, 2019.0,\\n              2020.0, 2020.0],\\n             dtype='float64', length=201236)] are in the [columns]\""
     ]
    }
   ],
   "source": [
    "basics_df = basics_df[basics_df['runtimeMinutes'].notna()]\n",
    "\n",
    "basics_df = basics_df[basics_df['genres'].notna()]\n",
    "\n",
    "basics_df = basics_df[basics_df.titleType == 'movie']\n",
    "\n",
    "basics_df = basics_df[basics_df['startYear'].notna()]\n",
    "\n",
    "basics_df = basics_df[basics_df['startYear'].astype(float)]\n",
    "basics_df.dtypes"
   ]
  },
  {
   "cell_type": "code",
   "execution_count": null,
   "id": "69cd9d20",
   "metadata": {
    "ExecuteTime": {
     "end_time": "2023-09-01T02:47:04.705175Z",
     "start_time": "2023-09-01T02:47:04.705169Z"
    }
   },
   "outputs": [],
   "source": [
    "basics_df"
   ]
  },
  {
   "cell_type": "code",
   "execution_count": null,
   "id": "183231d7",
   "metadata": {
    "ExecuteTime": {
     "end_time": "2023-09-01T02:47:04.705942Z",
     "start_time": "2023-09-01T02:47:04.705931Z"
    }
   },
   "outputs": [],
   "source": [
    "# Filtering the basics dataframe using startYear column to keep movies between 2000 and 2021 inclusive\n",
    "basics_df = basics_df[(basics_df['startYear'] >= 2000) & (basics_df['startYear'] <= 2021)]\n"
   ]
  },
  {
   "cell_type": "code",
   "execution_count": null,
   "id": "bdfb0804",
   "metadata": {
    "ExecuteTime": {
     "end_time": "2023-09-01T02:47:04.707041Z",
     "start_time": "2023-09-01T02:47:04.707036Z"
    }
   },
   "outputs": [],
   "source": [
    "# Exclude movies that are included in the documentary category.\n",
    "is_documentary = df['genres'].str.contains('documentary',case=False)\n",
    "df = df[~is_documentary]\n"
   ]
  },
  {
   "cell_type": "code",
   "execution_count": null,
   "id": "a0fcb974",
   "metadata": {
    "ExecuteTime": {
     "end_time": "2023-09-01T02:47:04.708902Z",
     "start_time": "2023-09-01T02:47:04.708896Z"
    }
   },
   "outputs": [],
   "source": [
    "ratings_df.replace({'\\\\N': np.nan}, inplace=True)"
   ]
  },
  {
   "cell_type": "code",
   "execution_count": null,
   "id": "92de83af",
   "metadata": {
    "ExecuteTime": {
     "end_time": "2023-09-01T02:47:04.710570Z",
     "start_time": "2023-09-01T02:47:04.710564Z"
    }
   },
   "outputs": [],
   "source": [
    "# Filter the basics table down to only include the US by using the filter akas dataframe\n",
    "keepers2 =ratings_df['tconst'].isin(akas_df['titleId'])\n",
    "keepers2\n"
   ]
  },
  {
   "cell_type": "code",
   "execution_count": null,
   "id": "16d10b6f",
   "metadata": {
    "ExecuteTime": {
     "end_time": "2023-09-01T02:47:04.712530Z",
     "start_time": "2023-09-01T02:47:04.712523Z"
    }
   },
   "outputs": [],
   "source": [
    "# Save Dataframe\n",
    "akas_df.to_csv(\"Data/title_akas.csv.gz\", compression='gzip', index=False)\n",
    "\n",
    "# Open saved file\n",
    "akas_df = pd.read_csv(\"Data/title_akas.csv.gz\", low_memory=False)\n",
    "akas_df.head()"
   ]
  },
  {
   "cell_type": "code",
   "execution_count": null,
   "id": "16db1d98",
   "metadata": {
    "ExecuteTime": {
     "end_time": "2023-09-01T02:47:04.714266Z",
     "start_time": "2023-09-01T02:47:04.714260Z"
    }
   },
   "outputs": [],
   "source": [
    "basics_df.to_csv(\"Data/title.basics.csv.gz\", compression='gzip' , index=False)\n",
    "\n",
    "#open saved file\n",
    "basics_df = pd.read_csv(\"Data/title_basics.csv.gz\", low_memory=False)\n",
    "basics_df.head()\n"
   ]
  },
  {
   "cell_type": "code",
   "execution_count": null,
   "id": "a31148d8",
   "metadata": {
    "ExecuteTime": {
     "end_time": "2023-09-01T02:47:04.714923Z",
     "start_time": "2023-09-01T02:47:04.714917Z"
    }
   },
   "outputs": [],
   "source": [
    "ratings_df.to_csv(\"Data/title.basics.csv.gz\", compression='gzip' , index=False)\n",
    "\n",
    "#open saved file\n",
    "ratings_df = pd.read_csv(\"Data/title_basics.csv.gz\", low_memory=False)\n",
    "ratings_df.head()"
   ]
  }
 ],
 "metadata": {
  "hide_input": false,
  "kernelspec": {
   "display_name": "Python (dojo-env)",
   "language": "python",
   "name": "dojo-env"
  },
  "language_info": {
   "codemirror_mode": {
    "name": "ipython",
    "version": 3
   },
   "file_extension": ".py",
   "mimetype": "text/x-python",
   "name": "python",
   "nbconvert_exporter": "python",
   "pygments_lexer": "ipython3",
   "version": "3.9.15"
  },
  "nbTranslate": {
   "displayLangs": [
    "*"
   ],
   "hotkey": "alt-t",
   "langInMainMenu": true,
   "sourceLang": "en",
   "targetLang": "fr",
   "useGoogleTranslate": true
  },
  "toc": {
   "base_numbering": 1,
   "nav_menu": {},
   "number_sections": true,
   "sideBar": true,
   "skip_h1_title": false,
   "title_cell": "Table of Contents",
   "title_sidebar": "Contents",
   "toc_cell": false,
   "toc_position": {},
   "toc_section_display": true,
   "toc_window_display": false
  }
 },
 "nbformat": 4,
 "nbformat_minor": 5
}

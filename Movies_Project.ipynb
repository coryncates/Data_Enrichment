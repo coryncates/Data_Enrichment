{
 "cells": [
  {
   "cell_type": "code",
   "execution_count": 2,
   "id": "b9a07453",
   "metadata": {
    "ExecuteTime": {
     "end_time": "2023-09-06T17:52:16.740196Z",
     "start_time": "2023-09-06T17:52:16.545068Z"
    }
   },
   "outputs": [
    {
     "data": {
      "text/plain": [
       "['data (3) (1).csv',\n",
       " '.DS_Store',\n",
       " 'title.ratings.tsv.gz.csv.gz',\n",
       " 'title.basics.tsv.gz',\n",
       " 'title_basics.csv.gz',\n",
       " 'data (5) (1).csv',\n",
       " 'data (4) (1).csv',\n",
       " 'title.ratings.tsv.gz',\n",
       " 'title.basics.csv.gz',\n",
       " 'title-akas-us-only.csv',\n",
       " 'data (6) (1).csv',\n",
       " 'title_akas.csv.gz',\n",
       " 'title.basics.tsv.gz.csv.gz',\n",
       " 'title_ratings.csv.gz']"
      ]
     },
     "execution_count": 2,
     "metadata": {},
     "output_type": "execute_result"
    }
   ],
   "source": [
    "import pandas as pd\n",
    "import numpy as np\n",
    "\n",
    "# example making new folder with os\n",
    "import os\n",
    "os.makedirs('Data/',exist_ok=True) # Confirm folder created\n",
    "os.listdir(\"Data/\")\n",
    "\n"
   ]
  },
  {
   "cell_type": "markdown",
   "id": "2188d06a",
   "metadata": {},
   "source": []
  },
  {
   "cell_type": "code",
   "execution_count": null,
   "id": "a1748ef2",
   "metadata": {
    "ExecuteTime": {
     "end_time": "2023-09-06T17:53:20.823355Z",
     "start_time": "2023-09-06T17:53:20.823350Z"
    }
   },
   "outputs": [],
   "source": [
    "# Load the three files into respective dataframes\n",
    "url_akas = \"https://datasets.imdbws.com/title.akas.tsv.gz\"\n",
    "url_basics = \"https://datasets.imdbws.com/title.basics.tsv.gz\"\n",
    "url_ratings = \"https://datasets.imdbws.com/title.ratings.tsv.gz\"\n",
    "\n",
    "akas_df = pd.read_csv(url_akas, compression='gzip', sep='\\t', low_memory=False)\n",
    "basics_df = pd.read_csv(url_basics, compression='gzip', sep='\\t', low_memory=False)\n",
    "ratings_df = pd.read_csv(url_ratings, compression='gzip', sep='\\t', low_memory=False)\n",
    "\n",
    "# Display the first few rows of each dataframe to understand their structure\n",
    "akas_df.head(), basics_df.head(), ratings_df.head()\n"
   ]
  },
  {
   "cell_type": "code",
   "execution_count": 4,
   "id": "6ff6ccc2",
   "metadata": {
    "ExecuteTime": {
     "end_time": "2023-09-06T17:53:08.542878Z",
     "start_time": "2023-09-06T17:53:07.233262Z"
    }
   },
   "outputs": [],
   "source": [
    "akas_df = akas_df[(akas_df['region'] == 'US')]"
   ]
  },
  {
   "cell_type": "code",
   "execution_count": 9,
   "id": "85ee8e2c",
   "metadata": {
    "ExecuteTime": {
     "end_time": "2023-09-06T17:53:23.312619Z",
     "start_time": "2023-09-06T17:53:22.356049Z"
    }
   },
   "outputs": [
    {
     "data": {
      "text/html": [
       "<div>\n",
       "<style scoped>\n",
       "    .dataframe tbody tr th:only-of-type {\n",
       "        vertical-align: middle;\n",
       "    }\n",
       "\n",
       "    .dataframe tbody tr th {\n",
       "        vertical-align: top;\n",
       "    }\n",
       "\n",
       "    .dataframe thead th {\n",
       "        text-align: right;\n",
       "    }\n",
       "</style>\n",
       "<table border=\"1\" class=\"dataframe\">\n",
       "  <thead>\n",
       "    <tr style=\"text-align: right;\">\n",
       "      <th></th>\n",
       "      <th>titleId</th>\n",
       "      <th>ordering</th>\n",
       "      <th>title</th>\n",
       "      <th>region</th>\n",
       "      <th>language</th>\n",
       "      <th>types</th>\n",
       "      <th>attributes</th>\n",
       "      <th>isOriginalTitle</th>\n",
       "    </tr>\n",
       "  </thead>\n",
       "  <tbody>\n",
       "    <tr>\n",
       "      <th>5</th>\n",
       "      <td>tt0000001</td>\n",
       "      <td>6</td>\n",
       "      <td>Carmencita</td>\n",
       "      <td>US</td>\n",
       "      <td>NaN</td>\n",
       "      <td>imdbDisplay</td>\n",
       "      <td>NaN</td>\n",
       "      <td>0</td>\n",
       "    </tr>\n",
       "    <tr>\n",
       "      <th>14</th>\n",
       "      <td>tt0000002</td>\n",
       "      <td>7</td>\n",
       "      <td>The Clown and His Dogs</td>\n",
       "      <td>US</td>\n",
       "      <td>NaN</td>\n",
       "      <td>NaN</td>\n",
       "      <td>literal English title</td>\n",
       "      <td>0</td>\n",
       "    </tr>\n",
       "    <tr>\n",
       "      <th>33</th>\n",
       "      <td>tt0000005</td>\n",
       "      <td>10</td>\n",
       "      <td>Blacksmith Scene</td>\n",
       "      <td>US</td>\n",
       "      <td>NaN</td>\n",
       "      <td>imdbDisplay</td>\n",
       "      <td>NaN</td>\n",
       "      <td>0</td>\n",
       "    </tr>\n",
       "    <tr>\n",
       "      <th>36</th>\n",
       "      <td>tt0000005</td>\n",
       "      <td>1</td>\n",
       "      <td>Blacksmithing Scene</td>\n",
       "      <td>US</td>\n",
       "      <td>NaN</td>\n",
       "      <td>alternative</td>\n",
       "      <td>NaN</td>\n",
       "      <td>0</td>\n",
       "    </tr>\n",
       "    <tr>\n",
       "      <th>41</th>\n",
       "      <td>tt0000005</td>\n",
       "      <td>6</td>\n",
       "      <td>Blacksmith Scene #1</td>\n",
       "      <td>US</td>\n",
       "      <td>NaN</td>\n",
       "      <td>alternative</td>\n",
       "      <td>NaN</td>\n",
       "      <td>0</td>\n",
       "    </tr>\n",
       "  </tbody>\n",
       "</table>\n",
       "</div>"
      ],
      "text/plain": [
       "      titleId  ordering                   title region language        types  \\\n",
       "5   tt0000001         6              Carmencita     US      NaN  imdbDisplay   \n",
       "14  tt0000002         7  The Clown and His Dogs     US      NaN          NaN   \n",
       "33  tt0000005        10        Blacksmith Scene     US      NaN  imdbDisplay   \n",
       "36  tt0000005         1     Blacksmithing Scene     US      NaN  alternative   \n",
       "41  tt0000005         6     Blacksmith Scene #1     US      NaN  alternative   \n",
       "\n",
       "               attributes isOriginalTitle  \n",
       "5                     NaN               0  \n",
       "14  literal English title               0  \n",
       "33                    NaN               0  \n",
       "36                    NaN               0  \n",
       "41                    NaN               0  "
      ]
     },
     "execution_count": 9,
     "metadata": {},
     "output_type": "execute_result"
    }
   ],
   "source": [
    "akas_df.replace({'\\\\N': np.nan}, inplace=True)\n",
    "\n",
    "# Display the first few rows of the processed dataframe\n",
    "akas_df.head()\n",
    "\n"
   ]
  },
  {
   "cell_type": "code",
   "execution_count": 6,
   "id": "633d7a86",
   "metadata": {
    "ExecuteTime": {
     "end_time": "2023-09-06T17:53:12.765260Z",
     "start_time": "2023-09-06T17:53:10.239467Z"
    }
   },
   "outputs": [
    {
     "data": {
      "text/plain": [
       "0            True\n",
       "1            True\n",
       "2           False\n",
       "3           False\n",
       "4            True\n",
       "            ...  \n",
       "10135601    False\n",
       "10135602    False\n",
       "10135603    False\n",
       "10135604    False\n",
       "10135605    False\n",
       "Name: tconst, Length: 10135606, dtype: bool"
      ]
     },
     "execution_count": 6,
     "metadata": {},
     "output_type": "execute_result"
    }
   ],
   "source": [
    "# Filter the basics table down to only include the US by using the filter akas dataframe\n",
    "keepers1 =basics_df['tconst'].isin(akas_df['titleId'])\n",
    "keepers1\n",
    "\n"
   ]
  },
  {
   "cell_type": "code",
   "execution_count": 7,
   "id": "4e3816dc",
   "metadata": {
    "ExecuteTime": {
     "end_time": "2023-09-06T17:53:20.807164Z",
     "start_time": "2023-09-06T17:53:12.766116Z"
    }
   },
   "outputs": [
    {
     "name": "stdout",
     "output_type": "stream",
     "text": [
      "<class 'pandas.core.frame.DataFrame'>\n",
      "RangeIndex: 10135606 entries, 0 to 10135605\n",
      "Data columns (total 9 columns):\n",
      " #   Column          Dtype \n",
      "---  ------          ----- \n",
      " 0   tconst          object\n",
      " 1   titleType       object\n",
      " 2   primaryTitle    object\n",
      " 3   originalTitle   object\n",
      " 4   isAdult         object\n",
      " 5   startYear       object\n",
      " 6   endYear         object\n",
      " 7   runtimeMinutes  object\n",
      " 8   genres          object\n",
      "dtypes: object(9)\n",
      "memory usage: 696.0+ MB\n"
     ]
    }
   ],
   "source": [
    "basics_df.replace({'\\\\N': np.nan}, inplace=True)\n",
    "\n",
    "# Display the first few rows of the processed dataframe\n",
    "basics_df.head()\n",
    "basics_df.info()\n"
   ]
  },
  {
   "cell_type": "code",
   "execution_count": 10,
   "id": "ffcc88de",
   "metadata": {
    "ExecuteTime": {
     "end_time": "2023-09-06T17:55:27.577000Z",
     "start_time": "2023-09-06T17:55:27.421781Z"
    }
   },
   "outputs": [
    {
     "data": {
      "text/html": [
       "<div>\n",
       "<style scoped>\n",
       "    .dataframe tbody tr th:only-of-type {\n",
       "        vertical-align: middle;\n",
       "    }\n",
       "\n",
       "    .dataframe tbody tr th {\n",
       "        vertical-align: top;\n",
       "    }\n",
       "\n",
       "    .dataframe thead th {\n",
       "        text-align: right;\n",
       "    }\n",
       "</style>\n",
       "<table border=\"1\" class=\"dataframe\">\n",
       "  <thead>\n",
       "    <tr style=\"text-align: right;\">\n",
       "      <th></th>\n",
       "      <th>tconst</th>\n",
       "      <th>titleType</th>\n",
       "      <th>primaryTitle</th>\n",
       "      <th>originalTitle</th>\n",
       "      <th>isAdult</th>\n",
       "      <th>startYear</th>\n",
       "      <th>endYear</th>\n",
       "      <th>runtimeMinutes</th>\n",
       "      <th>genres</th>\n",
       "    </tr>\n",
       "  </thead>\n",
       "  <tbody>\n",
       "    <tr>\n",
       "      <th>0</th>\n",
       "      <td>tt0000001</td>\n",
       "      <td>short</td>\n",
       "      <td>Carmencita</td>\n",
       "      <td>Carmencita</td>\n",
       "      <td>0</td>\n",
       "      <td>1894</td>\n",
       "      <td>NaN</td>\n",
       "      <td>1</td>\n",
       "      <td>Documentary,Short</td>\n",
       "    </tr>\n",
       "    <tr>\n",
       "      <th>1</th>\n",
       "      <td>tt0000002</td>\n",
       "      <td>short</td>\n",
       "      <td>Le clown et ses chiens</td>\n",
       "      <td>Le clown et ses chiens</td>\n",
       "      <td>0</td>\n",
       "      <td>1892</td>\n",
       "      <td>NaN</td>\n",
       "      <td>5</td>\n",
       "      <td>Animation,Short</td>\n",
       "    </tr>\n",
       "    <tr>\n",
       "      <th>4</th>\n",
       "      <td>tt0000005</td>\n",
       "      <td>short</td>\n",
       "      <td>Blacksmith Scene</td>\n",
       "      <td>Blacksmith Scene</td>\n",
       "      <td>0</td>\n",
       "      <td>1893</td>\n",
       "      <td>NaN</td>\n",
       "      <td>1</td>\n",
       "      <td>Comedy,Short</td>\n",
       "    </tr>\n",
       "    <tr>\n",
       "      <th>5</th>\n",
       "      <td>tt0000006</td>\n",
       "      <td>short</td>\n",
       "      <td>Chinese Opium Den</td>\n",
       "      <td>Chinese Opium Den</td>\n",
       "      <td>0</td>\n",
       "      <td>1894</td>\n",
       "      <td>NaN</td>\n",
       "      <td>1</td>\n",
       "      <td>Short</td>\n",
       "    </tr>\n",
       "    <tr>\n",
       "      <th>6</th>\n",
       "      <td>tt0000007</td>\n",
       "      <td>short</td>\n",
       "      <td>Corbett and Courtney Before the Kinetograph</td>\n",
       "      <td>Corbett and Courtney Before the Kinetograph</td>\n",
       "      <td>0</td>\n",
       "      <td>1894</td>\n",
       "      <td>NaN</td>\n",
       "      <td>1</td>\n",
       "      <td>Short,Sport</td>\n",
       "    </tr>\n",
       "    <tr>\n",
       "      <th>...</th>\n",
       "      <td>...</td>\n",
       "      <td>...</td>\n",
       "      <td>...</td>\n",
       "      <td>...</td>\n",
       "      <td>...</td>\n",
       "      <td>...</td>\n",
       "      <td>...</td>\n",
       "      <td>...</td>\n",
       "      <td>...</td>\n",
       "    </tr>\n",
       "    <tr>\n",
       "      <th>10135467</th>\n",
       "      <td>tt9916560</td>\n",
       "      <td>tvMovie</td>\n",
       "      <td>March of Dimes Presents: Once Upon a Dime</td>\n",
       "      <td>March of Dimes Presents: Once Upon a Dime</td>\n",
       "      <td>0</td>\n",
       "      <td>1963</td>\n",
       "      <td>NaN</td>\n",
       "      <td>58</td>\n",
       "      <td>Family</td>\n",
       "    </tr>\n",
       "    <tr>\n",
       "      <th>10135496</th>\n",
       "      <td>tt9916620</td>\n",
       "      <td>movie</td>\n",
       "      <td>The Copeland Case</td>\n",
       "      <td>The Copeland Case</td>\n",
       "      <td>0</td>\n",
       "      <td>NaN</td>\n",
       "      <td>NaN</td>\n",
       "      <td>NaN</td>\n",
       "      <td>Drama</td>\n",
       "    </tr>\n",
       "    <tr>\n",
       "      <th>10135534</th>\n",
       "      <td>tt9916702</td>\n",
       "      <td>short</td>\n",
       "      <td>Loving London: The Playground</td>\n",
       "      <td>Loving London: The Playground</td>\n",
       "      <td>0</td>\n",
       "      <td>NaN</td>\n",
       "      <td>NaN</td>\n",
       "      <td>NaN</td>\n",
       "      <td>Drama,Short</td>\n",
       "    </tr>\n",
       "    <tr>\n",
       "      <th>10135557</th>\n",
       "      <td>tt9916756</td>\n",
       "      <td>short</td>\n",
       "      <td>Pretty Pretty Black Girl</td>\n",
       "      <td>Pretty Pretty Black Girl</td>\n",
       "      <td>0</td>\n",
       "      <td>2019</td>\n",
       "      <td>NaN</td>\n",
       "      <td>NaN</td>\n",
       "      <td>Short</td>\n",
       "    </tr>\n",
       "    <tr>\n",
       "      <th>10135561</th>\n",
       "      <td>tt9916764</td>\n",
       "      <td>short</td>\n",
       "      <td>38</td>\n",
       "      <td>38</td>\n",
       "      <td>0</td>\n",
       "      <td>2018</td>\n",
       "      <td>NaN</td>\n",
       "      <td>NaN</td>\n",
       "      <td>Short</td>\n",
       "    </tr>\n",
       "  </tbody>\n",
       "</table>\n",
       "<p>1376388 rows × 9 columns</p>\n",
       "</div>"
      ],
      "text/plain": [
       "             tconst titleType                                 primaryTitle  \\\n",
       "0         tt0000001     short                                   Carmencita   \n",
       "1         tt0000002     short                       Le clown et ses chiens   \n",
       "4         tt0000005     short                             Blacksmith Scene   \n",
       "5         tt0000006     short                            Chinese Opium Den   \n",
       "6         tt0000007     short  Corbett and Courtney Before the Kinetograph   \n",
       "...             ...       ...                                          ...   \n",
       "10135467  tt9916560   tvMovie    March of Dimes Presents: Once Upon a Dime   \n",
       "10135496  tt9916620     movie                            The Copeland Case   \n",
       "10135534  tt9916702     short                Loving London: The Playground   \n",
       "10135557  tt9916756     short                     Pretty Pretty Black Girl   \n",
       "10135561  tt9916764     short                                           38   \n",
       "\n",
       "                                        originalTitle isAdult startYear  \\\n",
       "0                                          Carmencita       0      1894   \n",
       "1                              Le clown et ses chiens       0      1892   \n",
       "4                                    Blacksmith Scene       0      1893   \n",
       "5                                   Chinese Opium Den       0      1894   \n",
       "6         Corbett and Courtney Before the Kinetograph       0      1894   \n",
       "...                                               ...     ...       ...   \n",
       "10135467    March of Dimes Presents: Once Upon a Dime       0      1963   \n",
       "10135496                            The Copeland Case       0       NaN   \n",
       "10135534                Loving London: The Playground       0       NaN   \n",
       "10135557                     Pretty Pretty Black Girl       0      2019   \n",
       "10135561                                           38       0      2018   \n",
       "\n",
       "         endYear runtimeMinutes             genres  \n",
       "0            NaN              1  Documentary,Short  \n",
       "1            NaN              5    Animation,Short  \n",
       "4            NaN              1       Comedy,Short  \n",
       "5            NaN              1              Short  \n",
       "6            NaN              1        Short,Sport  \n",
       "...          ...            ...                ...  \n",
       "10135467     NaN             58             Family  \n",
       "10135496     NaN            NaN              Drama  \n",
       "10135534     NaN            NaN        Drama,Short  \n",
       "10135557     NaN            NaN              Short  \n",
       "10135561     NaN            NaN              Short  \n",
       "\n",
       "[1376388 rows x 9 columns]"
      ]
     },
     "execution_count": 10,
     "metadata": {},
     "output_type": "execute_result"
    }
   ],
   "source": [
    "basics_df = basics_df[keepers1]\n",
    "basics_df\n",
    "\n"
   ]
  },
  {
   "cell_type": "code",
   "execution_count": 11,
   "id": "1d1d4436",
   "metadata": {
    "ExecuteTime": {
     "end_time": "2023-09-06T17:55:53.937648Z",
     "start_time": "2023-09-06T17:55:53.631897Z"
    }
   },
   "outputs": [
    {
     "data": {
      "text/plain": [
       "tconst             object\n",
       "titleType          object\n",
       "primaryTitle       object\n",
       "originalTitle      object\n",
       "isAdult            object\n",
       "startYear         float64\n",
       "endYear            object\n",
       "runtimeMinutes     object\n",
       "genres             object\n",
       "dtype: object"
      ]
     },
     "execution_count": 11,
     "metadata": {},
     "output_type": "execute_result"
    }
   ],
   "source": [
    "basics_df = basics_df[basics_df['runtimeMinutes'].notna()]\n",
    "\n",
    "basics_df = basics_df[basics_df['genres'].notna()]\n",
    "\n",
    "basics_df = basics_df[basics_df.titleType == 'movie']\n",
    "\n",
    "basics_df = basics_df[basics_df['startYear'].notna()]\n",
    "\n",
    "basics_df['startYear'] = basics_df['startYear'].astype(float)\n",
    "\n",
    "basics_df.dtypes"
   ]
  },
  {
   "cell_type": "code",
   "execution_count": 12,
   "id": "69cd9d20",
   "metadata": {
    "ExecuteTime": {
     "end_time": "2023-09-06T17:56:04.529651Z",
     "start_time": "2023-09-06T17:56:04.506389Z"
    }
   },
   "outputs": [
    {
     "data": {
      "text/html": [
       "<div>\n",
       "<style scoped>\n",
       "    .dataframe tbody tr th:only-of-type {\n",
       "        vertical-align: middle;\n",
       "    }\n",
       "\n",
       "    .dataframe tbody tr th {\n",
       "        vertical-align: top;\n",
       "    }\n",
       "\n",
       "    .dataframe thead th {\n",
       "        text-align: right;\n",
       "    }\n",
       "</style>\n",
       "<table border=\"1\" class=\"dataframe\">\n",
       "  <thead>\n",
       "    <tr style=\"text-align: right;\">\n",
       "      <th></th>\n",
       "      <th>tconst</th>\n",
       "      <th>titleType</th>\n",
       "      <th>primaryTitle</th>\n",
       "      <th>originalTitle</th>\n",
       "      <th>isAdult</th>\n",
       "      <th>startYear</th>\n",
       "      <th>endYear</th>\n",
       "      <th>runtimeMinutes</th>\n",
       "      <th>genres</th>\n",
       "    </tr>\n",
       "  </thead>\n",
       "  <tbody>\n",
       "    <tr>\n",
       "      <th>8</th>\n",
       "      <td>tt0000009</td>\n",
       "      <td>movie</td>\n",
       "      <td>Miss Jerry</td>\n",
       "      <td>Miss Jerry</td>\n",
       "      <td>0</td>\n",
       "      <td>1894.0</td>\n",
       "      <td>NaN</td>\n",
       "      <td>45</td>\n",
       "      <td>Romance</td>\n",
       "    </tr>\n",
       "    <tr>\n",
       "      <th>144</th>\n",
       "      <td>tt0000147</td>\n",
       "      <td>movie</td>\n",
       "      <td>The Corbett-Fitzsimmons Fight</td>\n",
       "      <td>The Corbett-Fitzsimmons Fight</td>\n",
       "      <td>0</td>\n",
       "      <td>1897.0</td>\n",
       "      <td>NaN</td>\n",
       "      <td>100</td>\n",
       "      <td>Documentary,News,Sport</td>\n",
       "    </tr>\n",
       "    <tr>\n",
       "      <th>570</th>\n",
       "      <td>tt0000574</td>\n",
       "      <td>movie</td>\n",
       "      <td>The Story of the Kelly Gang</td>\n",
       "      <td>The Story of the Kelly Gang</td>\n",
       "      <td>0</td>\n",
       "      <td>1906.0</td>\n",
       "      <td>NaN</td>\n",
       "      <td>70</td>\n",
       "      <td>Action,Adventure,Biography</td>\n",
       "    </tr>\n",
       "    <tr>\n",
       "      <th>587</th>\n",
       "      <td>tt0000591</td>\n",
       "      <td>movie</td>\n",
       "      <td>The Prodigal Son</td>\n",
       "      <td>L'enfant prodigue</td>\n",
       "      <td>0</td>\n",
       "      <td>1907.0</td>\n",
       "      <td>NaN</td>\n",
       "      <td>90</td>\n",
       "      <td>Drama</td>\n",
       "    </tr>\n",
       "    <tr>\n",
       "      <th>672</th>\n",
       "      <td>tt0000679</td>\n",
       "      <td>movie</td>\n",
       "      <td>The Fairylogue and Radio-Plays</td>\n",
       "      <td>The Fairylogue and Radio-Plays</td>\n",
       "      <td>0</td>\n",
       "      <td>1908.0</td>\n",
       "      <td>NaN</td>\n",
       "      <td>120</td>\n",
       "      <td>Adventure,Fantasy</td>\n",
       "    </tr>\n",
       "    <tr>\n",
       "      <th>...</th>\n",
       "      <td>...</td>\n",
       "      <td>...</td>\n",
       "      <td>...</td>\n",
       "      <td>...</td>\n",
       "      <td>...</td>\n",
       "      <td>...</td>\n",
       "      <td>...</td>\n",
       "      <td>...</td>\n",
       "      <td>...</td>\n",
       "    </tr>\n",
       "    <tr>\n",
       "      <th>10134961</th>\n",
       "      <td>tt9915436</td>\n",
       "      <td>movie</td>\n",
       "      <td>Vida em Movimento</td>\n",
       "      <td>Vida em Movimento</td>\n",
       "      <td>0</td>\n",
       "      <td>2019.0</td>\n",
       "      <td>NaN</td>\n",
       "      <td>70</td>\n",
       "      <td>Documentary</td>\n",
       "    </tr>\n",
       "    <tr>\n",
       "      <th>10135139</th>\n",
       "      <td>tt9915872</td>\n",
       "      <td>movie</td>\n",
       "      <td>The Last White Witch</td>\n",
       "      <td>Boku no kanojo wa mahoutsukai</td>\n",
       "      <td>0</td>\n",
       "      <td>2019.0</td>\n",
       "      <td>NaN</td>\n",
       "      <td>97</td>\n",
       "      <td>Comedy,Drama,Fantasy</td>\n",
       "    </tr>\n",
       "    <tr>\n",
       "      <th>10135279</th>\n",
       "      <td>tt9916170</td>\n",
       "      <td>movie</td>\n",
       "      <td>The Rehearsal</td>\n",
       "      <td>O Ensaio</td>\n",
       "      <td>0</td>\n",
       "      <td>2019.0</td>\n",
       "      <td>NaN</td>\n",
       "      <td>51</td>\n",
       "      <td>Drama</td>\n",
       "    </tr>\n",
       "    <tr>\n",
       "      <th>10135288</th>\n",
       "      <td>tt9916190</td>\n",
       "      <td>movie</td>\n",
       "      <td>Safeguard</td>\n",
       "      <td>Safeguard</td>\n",
       "      <td>0</td>\n",
       "      <td>2020.0</td>\n",
       "      <td>NaN</td>\n",
       "      <td>95</td>\n",
       "      <td>Action,Adventure,Thriller</td>\n",
       "    </tr>\n",
       "    <tr>\n",
       "      <th>10135372</th>\n",
       "      <td>tt9916362</td>\n",
       "      <td>movie</td>\n",
       "      <td>Coven</td>\n",
       "      <td>Akelarre</td>\n",
       "      <td>0</td>\n",
       "      <td>2020.0</td>\n",
       "      <td>NaN</td>\n",
       "      <td>92</td>\n",
       "      <td>Drama,History</td>\n",
       "    </tr>\n",
       "  </tbody>\n",
       "</table>\n",
       "<p>201350 rows × 9 columns</p>\n",
       "</div>"
      ],
      "text/plain": [
       "             tconst titleType                    primaryTitle  \\\n",
       "8         tt0000009     movie                      Miss Jerry   \n",
       "144       tt0000147     movie   The Corbett-Fitzsimmons Fight   \n",
       "570       tt0000574     movie     The Story of the Kelly Gang   \n",
       "587       tt0000591     movie                The Prodigal Son   \n",
       "672       tt0000679     movie  The Fairylogue and Radio-Plays   \n",
       "...             ...       ...                             ...   \n",
       "10134961  tt9915436     movie               Vida em Movimento   \n",
       "10135139  tt9915872     movie            The Last White Witch   \n",
       "10135279  tt9916170     movie                   The Rehearsal   \n",
       "10135288  tt9916190     movie                       Safeguard   \n",
       "10135372  tt9916362     movie                           Coven   \n",
       "\n",
       "                           originalTitle isAdult  startYear endYear  \\\n",
       "8                             Miss Jerry       0     1894.0     NaN   \n",
       "144        The Corbett-Fitzsimmons Fight       0     1897.0     NaN   \n",
       "570          The Story of the Kelly Gang       0     1906.0     NaN   \n",
       "587                    L'enfant prodigue       0     1907.0     NaN   \n",
       "672       The Fairylogue and Radio-Plays       0     1908.0     NaN   \n",
       "...                                  ...     ...        ...     ...   \n",
       "10134961               Vida em Movimento       0     2019.0     NaN   \n",
       "10135139   Boku no kanojo wa mahoutsukai       0     2019.0     NaN   \n",
       "10135279                        O Ensaio       0     2019.0     NaN   \n",
       "10135288                       Safeguard       0     2020.0     NaN   \n",
       "10135372                        Akelarre       0     2020.0     NaN   \n",
       "\n",
       "         runtimeMinutes                      genres  \n",
       "8                    45                     Romance  \n",
       "144                 100      Documentary,News,Sport  \n",
       "570                  70  Action,Adventure,Biography  \n",
       "587                  90                       Drama  \n",
       "672                 120           Adventure,Fantasy  \n",
       "...                 ...                         ...  \n",
       "10134961             70                 Documentary  \n",
       "10135139             97        Comedy,Drama,Fantasy  \n",
       "10135279             51                       Drama  \n",
       "10135288             95   Action,Adventure,Thriller  \n",
       "10135372             92               Drama,History  \n",
       "\n",
       "[201350 rows x 9 columns]"
      ]
     },
     "execution_count": 12,
     "metadata": {},
     "output_type": "execute_result"
    }
   ],
   "source": [
    "basics_df"
   ]
  },
  {
   "cell_type": "code",
   "execution_count": 13,
   "id": "183231d7",
   "metadata": {
    "ExecuteTime": {
     "end_time": "2023-09-06T17:56:37.223966Z",
     "start_time": "2023-09-06T17:56:37.101724Z"
    }
   },
   "outputs": [
    {
     "name": "stdout",
     "output_type": "stream",
     "text": [
      "<class 'pandas.core.frame.DataFrame'>\n",
      "Int64Index: 114623 entries, 34800 to 10135372\n",
      "Data columns (total 9 columns):\n",
      " #   Column          Non-Null Count   Dtype  \n",
      "---  ------          --------------   -----  \n",
      " 0   tconst          114623 non-null  object \n",
      " 1   titleType       114623 non-null  object \n",
      " 2   primaryTitle    114623 non-null  object \n",
      " 3   originalTitle   114623 non-null  object \n",
      " 4   isAdult         114623 non-null  object \n",
      " 5   startYear       114623 non-null  float64\n",
      " 6   endYear         0 non-null       object \n",
      " 7   runtimeMinutes  114623 non-null  object \n",
      " 8   genres          114623 non-null  object \n",
      "dtypes: float64(1), object(8)\n",
      "memory usage: 8.7+ MB\n"
     ]
    }
   ],
   "source": [
    "# Filtering the basics dataframe using startYear column to keep movies between 2000 and 2021 inclusive\n",
    "basics_df = basics_df[(basics_df['startYear'] >= 2000) & (basics_df['startYear'] <= 2021)]\n",
    "basics_df.info()"
   ]
  },
  {
   "cell_type": "code",
   "execution_count": 15,
   "id": "bdfb0804",
   "metadata": {
    "ExecuteTime": {
     "end_time": "2023-09-06T17:57:16.907255Z",
     "start_time": "2023-09-06T17:57:16.792815Z"
    }
   },
   "outputs": [
    {
     "name": "stdout",
     "output_type": "stream",
     "text": [
      "<class 'pandas.core.frame.DataFrame'>\n",
      "Int64Index: 82041 entries, 34800 to 10135372\n",
      "Data columns (total 9 columns):\n",
      " #   Column          Non-Null Count  Dtype  \n",
      "---  ------          --------------  -----  \n",
      " 0   tconst          82041 non-null  object \n",
      " 1   titleType       82041 non-null  object \n",
      " 2   primaryTitle    82041 non-null  object \n",
      " 3   originalTitle   82041 non-null  object \n",
      " 4   isAdult         82041 non-null  object \n",
      " 5   startYear       82041 non-null  float64\n",
      " 6   endYear         0 non-null      object \n",
      " 7   runtimeMinutes  82041 non-null  object \n",
      " 8   genres          82041 non-null  object \n",
      "dtypes: float64(1), object(8)\n",
      "memory usage: 6.3+ MB\n"
     ]
    }
   ],
   "source": [
    "# Exclude movies that are included in the documentary category.\n",
    "is_documentary = basics_df['genres'].str.contains('documentary',case=False)\n",
    "basics_df = basics_df[~is_documentary]\n",
    "basics_df.info()"
   ]
  },
  {
   "cell_type": "code",
   "execution_count": 16,
   "id": "a0fcb974",
   "metadata": {
    "ExecuteTime": {
     "end_time": "2023-09-06T17:57:42.781943Z",
     "start_time": "2023-09-06T17:57:42.644061Z"
    }
   },
   "outputs": [],
   "source": [
    "ratings_df.replace({'\\\\N': np.nan}, inplace=True)"
   ]
  },
  {
   "cell_type": "code",
   "execution_count": 21,
   "id": "92de83af",
   "metadata": {
    "ExecuteTime": {
     "end_time": "2023-09-06T18:01:00.091249Z",
     "start_time": "2023-09-06T18:00:59.961568Z"
    }
   },
   "outputs": [
    {
     "data": {
      "text/plain": [
       "0          False\n",
       "1          False\n",
       "2          False\n",
       "3          False\n",
       "4          False\n",
       "           ...  \n",
       "1345295    False\n",
       "1345296    False\n",
       "1345297    False\n",
       "1345298    False\n",
       "1345299    False\n",
       "Name: tconst, Length: 1345300, dtype: bool"
      ]
     },
     "execution_count": 21,
     "metadata": {},
     "output_type": "execute_result"
    }
   ],
   "source": [
    "# Filter the basics table down to only include the US by using the filter akas dataframe\n",
    "keepers2 =ratings_df['tconst'].isin(basics_df['tconst'])\n",
    "keepers2\n"
   ]
  },
  {
   "cell_type": "code",
   "execution_count": 22,
   "id": "209f3526",
   "metadata": {
    "ExecuteTime": {
     "end_time": "2023-09-06T18:02:55.294618Z",
     "start_time": "2023-09-06T18:02:55.268900Z"
    }
   },
   "outputs": [
    {
     "data": {
      "text/html": [
       "<div>\n",
       "<style scoped>\n",
       "    .dataframe tbody tr th:only-of-type {\n",
       "        vertical-align: middle;\n",
       "    }\n",
       "\n",
       "    .dataframe tbody tr th {\n",
       "        vertical-align: top;\n",
       "    }\n",
       "\n",
       "    .dataframe thead th {\n",
       "        text-align: right;\n",
       "    }\n",
       "</style>\n",
       "<table border=\"1\" class=\"dataframe\">\n",
       "  <thead>\n",
       "    <tr style=\"text-align: right;\">\n",
       "      <th></th>\n",
       "      <th>tconst</th>\n",
       "      <th>averageRating</th>\n",
       "      <th>numVotes</th>\n",
       "    </tr>\n",
       "  </thead>\n",
       "  <tbody>\n",
       "    <tr>\n",
       "      <th>17896</th>\n",
       "      <td>tt0035423</td>\n",
       "      <td>6.4</td>\n",
       "      <td>87470</td>\n",
       "    </tr>\n",
       "    <tr>\n",
       "      <th>40653</th>\n",
       "      <td>tt0062336</td>\n",
       "      <td>6.4</td>\n",
       "      <td>180</td>\n",
       "    </tr>\n",
       "    <tr>\n",
       "      <th>46366</th>\n",
       "      <td>tt0068865</td>\n",
       "      <td>5.4</td>\n",
       "      <td>74</td>\n",
       "    </tr>\n",
       "    <tr>\n",
       "      <th>46523</th>\n",
       "      <td>tt0069049</td>\n",
       "      <td>6.7</td>\n",
       "      <td>7812</td>\n",
       "    </tr>\n",
       "    <tr>\n",
       "      <th>58014</th>\n",
       "      <td>tt0082328</td>\n",
       "      <td>5.9</td>\n",
       "      <td>1747</td>\n",
       "    </tr>\n",
       "    <tr>\n",
       "      <th>...</th>\n",
       "      <td>...</td>\n",
       "      <td>...</td>\n",
       "      <td>...</td>\n",
       "    </tr>\n",
       "    <tr>\n",
       "      <th>1345219</th>\n",
       "      <td>tt9914942</td>\n",
       "      <td>6.6</td>\n",
       "      <td>181</td>\n",
       "    </tr>\n",
       "    <tr>\n",
       "      <th>1345246</th>\n",
       "      <td>tt9915872</td>\n",
       "      <td>6.4</td>\n",
       "      <td>9</td>\n",
       "    </tr>\n",
       "    <tr>\n",
       "      <th>1345259</th>\n",
       "      <td>tt9916170</td>\n",
       "      <td>7.0</td>\n",
       "      <td>7</td>\n",
       "    </tr>\n",
       "    <tr>\n",
       "      <th>1345260</th>\n",
       "      <td>tt9916190</td>\n",
       "      <td>3.7</td>\n",
       "      <td>243</td>\n",
       "    </tr>\n",
       "    <tr>\n",
       "      <th>1345271</th>\n",
       "      <td>tt9916362</td>\n",
       "      <td>6.4</td>\n",
       "      <td>5509</td>\n",
       "    </tr>\n",
       "  </tbody>\n",
       "</table>\n",
       "<p>68189 rows × 3 columns</p>\n",
       "</div>"
      ],
      "text/plain": [
       "            tconst  averageRating  numVotes\n",
       "17896    tt0035423            6.4     87470\n",
       "40653    tt0062336            6.4       180\n",
       "46366    tt0068865            5.4        74\n",
       "46523    tt0069049            6.7      7812\n",
       "58014    tt0082328            5.9      1747\n",
       "...            ...            ...       ...\n",
       "1345219  tt9914942            6.6       181\n",
       "1345246  tt9915872            6.4         9\n",
       "1345259  tt9916170            7.0         7\n",
       "1345260  tt9916190            3.7       243\n",
       "1345271  tt9916362            6.4      5509\n",
       "\n",
       "[68189 rows x 3 columns]"
      ]
     },
     "execution_count": 22,
     "metadata": {},
     "output_type": "execute_result"
    }
   ],
   "source": [
    "ratings_df = ratings_df[keepers2]\n",
    "ratings_df"
   ]
  },
  {
   "cell_type": "code",
   "execution_count": 18,
   "id": "16d10b6f",
   "metadata": {
    "ExecuteTime": {
     "end_time": "2023-09-06T17:58:02.832391Z",
     "start_time": "2023-09-06T17:57:53.966427Z"
    }
   },
   "outputs": [
    {
     "name": "stdout",
     "output_type": "stream",
     "text": [
      "<class 'pandas.core.frame.DataFrame'>\n",
      "RangeIndex: 1463841 entries, 0 to 1463840\n",
      "Data columns (total 8 columns):\n",
      " #   Column           Non-Null Count    Dtype  \n",
      "---  ------           --------------    -----  \n",
      " 0   titleId          1463841 non-null  object \n",
      " 1   ordering         1463841 non-null  int64  \n",
      " 2   title            1463841 non-null  object \n",
      " 3   region           1463841 non-null  object \n",
      " 4   language         4126 non-null     object \n",
      " 5   types            983442 non-null   object \n",
      " 6   attributes       47431 non-null    object \n",
      " 7   isOriginalTitle  1462499 non-null  float64\n",
      "dtypes: float64(1), int64(1), object(6)\n",
      "memory usage: 89.3+ MB\n"
     ]
    }
   ],
   "source": [
    "# Save Dataframe\n",
    "akas_df.to_csv(\"Data/title_akas.csv.gz\", compression='gzip', index=False)\n",
    "\n",
    "# Open saved file\n",
    "akas_df = pd.read_csv(\"Data/title_akas.csv.gz\", low_memory=False)\n",
    "akas_df.head()\n",
    "akas_df.info() # resubmit added\n"
   ]
  },
  {
   "cell_type": "code",
   "execution_count": 19,
   "id": "16db1d98",
   "metadata": {
    "ExecuteTime": {
     "end_time": "2023-09-06T17:58:28.956111Z",
     "start_time": "2023-09-06T17:58:28.175959Z"
    }
   },
   "outputs": [
    {
     "name": "stdout",
     "output_type": "stream",
     "text": [
      "<class 'pandas.core.frame.DataFrame'>\n",
      "RangeIndex: 82041 entries, 0 to 82040\n",
      "Data columns (total 9 columns):\n",
      " #   Column          Non-Null Count  Dtype  \n",
      "---  ------          --------------  -----  \n",
      " 0   tconst          82041 non-null  object \n",
      " 1   titleType       82041 non-null  object \n",
      " 2   primaryTitle    82041 non-null  object \n",
      " 3   originalTitle   82041 non-null  object \n",
      " 4   isAdult         82041 non-null  int64  \n",
      " 5   startYear       82041 non-null  float64\n",
      " 6   endYear         0 non-null      float64\n",
      " 7   runtimeMinutes  82041 non-null  int64  \n",
      " 8   genres          82041 non-null  object \n",
      "dtypes: float64(2), int64(2), object(5)\n",
      "memory usage: 5.6+ MB\n"
     ]
    }
   ],
   "source": [
    "basics_df.to_csv(\"Data/title_basics.csv.gz\", compression='gzip' , index=False)\n",
    "\n",
    "#open saved file\n",
    "basics_df = pd.read_csv(\"Data/title_basics.csv.gz\", low_memory=False)\n",
    "basics_df.head()\n",
    "basics_df.info() #resubmit added\n"
   ]
  },
  {
   "cell_type": "code",
   "execution_count": 23,
   "id": "a31148d8",
   "metadata": {
    "ExecuteTime": {
     "end_time": "2023-09-06T18:03:11.681688Z",
     "start_time": "2023-09-06T18:03:11.283448Z"
    }
   },
   "outputs": [
    {
     "name": "stdout",
     "output_type": "stream",
     "text": [
      "<class 'pandas.core.frame.DataFrame'>\n",
      "RangeIndex: 68189 entries, 0 to 68188\n",
      "Data columns (total 3 columns):\n",
      " #   Column         Non-Null Count  Dtype  \n",
      "---  ------         --------------  -----  \n",
      " 0   tconst         68189 non-null  object \n",
      " 1   averageRating  68189 non-null  float64\n",
      " 2   numVotes       68189 non-null  int64  \n",
      "dtypes: float64(1), int64(1), object(1)\n",
      "memory usage: 1.6+ MB\n"
     ]
    }
   ],
   "source": [
    "ratings_df.to_csv(\"Data/title_ratings.csv.gz\", compression='gzip' , index=False)\n",
    "\n",
    "#open saved file\n",
    "ratings_df = pd.read_csv(\"Data/title_ratings.csv.gz\", low_memory=False)\n",
    "ratings_df.head()\n",
    "ratings_df.info() #resubmit added"
   ]
  },
  {
   "cell_type": "code",
   "execution_count": null,
   "id": "d031d139",
   "metadata": {},
   "outputs": [],
   "source": []
  }
 ],
 "metadata": {
  "hide_input": false,
  "kernelspec": {
   "display_name": "Python (dojo-env)",
   "language": "python",
   "name": "dojo-env"
  },
  "language_info": {
   "codemirror_mode": {
    "name": "ipython",
    "version": 3
   },
   "file_extension": ".py",
   "mimetype": "text/x-python",
   "name": "python",
   "nbconvert_exporter": "python",
   "pygments_lexer": "ipython3",
   "version": "3.9.15"
  },
  "nbTranslate": {
   "displayLangs": [
    "*"
   ],
   "hotkey": "alt-t",
   "langInMainMenu": true,
   "sourceLang": "en",
   "targetLang": "fr",
   "useGoogleTranslate": true
  },
  "toc": {
   "base_numbering": 1,
   "nav_menu": {},
   "number_sections": true,
   "sideBar": true,
   "skip_h1_title": false,
   "title_cell": "Table of Contents",
   "title_sidebar": "Contents",
   "toc_cell": false,
   "toc_position": {},
   "toc_section_display": true,
   "toc_window_display": false
  }
 },
 "nbformat": 4,
 "nbformat_minor": 5
}

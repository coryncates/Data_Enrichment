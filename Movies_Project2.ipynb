{
 "cells": [
  {
   "cell_type": "code",
   "execution_count": 188,
   "id": "bd4f2fba",
   "metadata": {
    "ExecuteTime": {
     "end_time": "2023-09-07T03:53:01.731095Z",
     "start_time": "2023-09-07T03:53:01.716634Z"
    }
   },
   "outputs": [],
   "source": [
    "\n",
    "\n",
    "\n",
    "def get_movie_with_rating(movie_id):\n",
    "    \"\"\"Adapted from source = https://github.com/celiao/tmdbsimple\"\"\"\n",
    "    # Get the movie object for the current id\n",
    "    movie = tmdb.Movies(movie_id)\n",
    "    \n",
    "    # save the .info .releases dictionaries\n",
    "    info = movie.info()\n",
    "    \n",
    "    releases = movie.releases()\n",
    "    # Loop through countries in releases\n",
    "    for c in releases['countries']:\n",
    "        # if c['iso_3166_1'] == 'US':\n",
    "        ## save a 'certification' key in info with the certification\n",
    "        info['certification'] = c['certification']\n",
    "        \n",
    "        \n",
    "    return info\n",
    "    \n"
   ]
  },
  {
   "cell_type": "code",
   "execution_count": 189,
   "id": "2c0ea1aa",
   "metadata": {
    "ExecuteTime": {
     "end_time": "2023-09-07T03:53:02.363606Z",
     "start_time": "2023-09-07T03:53:02.349619Z"
    }
   },
   "outputs": [],
   "source": [
    "def write_json(new_data, filename): \n",
    "    \"\"\"Appends a list of records (new_data) to a json file (filename). \n",
    "    Adapted from: https://www.geeksforgeeks.org/append-to-json-file-using-python/\"\"\"  \n",
    "    \n",
    "    with open(filename,'r+') as file:\n",
    "        # First we load existing data into a dict.\n",
    "        file_data = json.load(file)\n",
    "        ## Choose extend or append\n",
    "        if (type(new_data) == list) & (type(file_data) == list):\n",
    "            file_data.extend(new_data)\n",
    "        else:\n",
    "             file_data.append(new_data)\n",
    "        # Sets file's current position at offset.\n",
    "        file.seek(0)\n",
    "        # convert back to json.\n",
    "        json.dump(file_data, file)\n"
   ]
  },
  {
   "cell_type": "code",
   "execution_count": 190,
   "id": "2ac9c50f",
   "metadata": {
    "ExecuteTime": {
     "end_time": "2023-09-07T03:53:03.004479Z",
     "start_time": "2023-09-07T03:53:02.981131Z"
    }
   },
   "outputs": [],
   "source": [
    "def read_and_fix_json(JSON_FILE):\n",
    "    \"\"\"Attempts to read in json file of records and fixes the final character\n",
    "    to end with a ] if it errors.\n",
    "    \n",
    "    Args:\n",
    "        JSON_FILE (str): filepath of JSON file\n",
    "        \n",
    "    Returns:\n",
    "        DataFrame: the corrected data from the bad json file\n",
    "    \"\"\"\n",
    "    try: \n",
    "        previous_df =  pd.read_json(JSON_FILE)\n",
    "    \n",
    "    ## If read_json throws an error\n",
    "    except:\n",
    "        \n",
    "        ## manually open the json file\n",
    "        with open(JSON_FILE,'r+') as f:\n",
    "            ## Read in the file as a STRING\n",
    "            bad_json = f.read()\n",
    "            \n",
    "            ## if the final character doesn't match first, select the right bracket\n",
    "            first_char = bad_json[0]\n",
    "            final_brackets = {'[':']', \n",
    "                           \"{\":\"}\"}\n",
    "            ## Select expected final brakcet\n",
    "            final_char = final_brackets[first_char]\n",
    "            \n",
    "            ## if the last character in file doen't match the first char, add it\n",
    "            if bad_json[-1] != final_char:\n",
    "                good_json = bad_json[:-1]\n",
    "                good_json+=final_char\n",
    "            else:\n",
    "                raise Exception('ERROR is not due to mismatched final bracket.')\n",
    "            \n",
    "            ## Rewind to start of file and write new good_json to disk\n",
    "            f.seek(0)\n",
    "            f.write(good_json)\n",
    "           \n",
    "        ## Load the json file again now that its fixed\n",
    "        previous_df =  pd.read_json(JSON_FILE)\n",
    "        \n",
    "    return previous_df\n",
    "\t\n",
    "\t"
   ]
  },
  {
   "cell_type": "code",
   "execution_count": 191,
   "id": "a49117dc",
   "metadata": {
    "ExecuteTime": {
     "end_time": "2023-09-07T03:53:05.312623Z",
     "start_time": "2023-09-07T03:53:03.649187Z"
    }
   },
   "outputs": [
    {
     "name": "stdout",
     "output_type": "stream",
     "text": [
      "Requirement already satisfied: tmdbsimple in /usr/local/Caskroom/miniforge/base/envs/dojo-env/lib/python3.9/site-packages (2.9.1)\r\n",
      "Requirement already satisfied: requests in /usr/local/Caskroom/miniforge/base/envs/dojo-env/lib/python3.9/site-packages (from tmdbsimple) (2.31.0)\r\n",
      "Requirement already satisfied: certifi>=2017.4.17 in /usr/local/Caskroom/miniforge/base/envs/dojo-env/lib/python3.9/site-packages (from requests->tmdbsimple) (2023.7.22)\r\n",
      "Requirement already satisfied: urllib3<3,>=1.21.1 in /usr/local/Caskroom/miniforge/base/envs/dojo-env/lib/python3.9/site-packages (from requests->tmdbsimple) (1.26.13)\r\n",
      "Requirement already satisfied: idna<4,>=2.5 in /usr/local/Caskroom/miniforge/base/envs/dojo-env/lib/python3.9/site-packages (from requests->tmdbsimple) (3.4)\r\n",
      "Requirement already satisfied: charset-normalizer<4,>=2 in /usr/local/Caskroom/miniforge/base/envs/dojo-env/lib/python3.9/site-packages (from requests->tmdbsimple) (2.0.4)\r\n"
     ]
    }
   ],
   "source": [
    "# Install tmdbsimple (only need to run once)\n",
    "!pip install tmdbsimple\n",
    "\n"
   ]
  },
  {
   "cell_type": "code",
   "execution_count": 192,
   "id": "b9a07453",
   "metadata": {
    "ExecuteTime": {
     "end_time": "2023-09-07T03:53:05.636533Z",
     "start_time": "2023-09-07T03:53:05.615259Z"
    }
   },
   "outputs": [
    {
     "data": {
      "text/plain": [
       "['data (3) (1).csv',\n",
       " '.DS_Store',\n",
       " 'title.ratings.tsv.gz.csv.gz',\n",
       " 'title.basics.tsv.gz',\n",
       " 'tmdb_api_results_2001.json',\n",
       " 'title_basics.csv.gz',\n",
       " 'data (5) (1).csv',\n",
       " 'data (4) (1).csv',\n",
       " 'title.ratings.tsv.gz',\n",
       " 'title.basics.csv.gz',\n",
       " 'title-akas-us-only.csv',\n",
       " 'final_tmdb_data_2001.csv.gz',\n",
       " 'data (6) (1).csv',\n",
       " 'title_akas.csv.gz',\n",
       " 'title.basics.tsv.gz.csv.gz',\n",
       " 'title_ratings.csv.gz']"
      ]
     },
     "execution_count": 192,
     "metadata": {},
     "output_type": "execute_result"
    }
   ],
   "source": [
    "import pandas as pd\n",
    "import numpy as np\n",
    "\n",
    "# example making new folder with os\n",
    "import os, time,json\n",
    "import tmdbsimple as tmdb \n",
    "FOLDER = \"Data/\"\n",
    "os.makedirs(FOLDER, exist_ok=True)\n",
    "os.listdir(FOLDER)\n",
    "\n"
   ]
  },
  {
   "cell_type": "markdown",
   "id": "2188d06a",
   "metadata": {},
   "source": []
  },
  {
   "cell_type": "code",
   "execution_count": 193,
   "id": "a1748ef2",
   "metadata": {
    "ExecuteTime": {
     "end_time": "2023-09-07T03:54:42.777370Z",
     "start_time": "2023-09-07T03:53:47.683895Z"
    }
   },
   "outputs": [
    {
     "data": {
      "text/plain": [
       "(     titleId  ordering                      title region language  \\\n",
       " 0  tt0000001         1                 Карменсіта     UA       \\N   \n",
       " 1  tt0000001         2                 Carmencita     DE       \\N   \n",
       " 2  tt0000001         3  Carmencita - spanyol tánc     HU       \\N   \n",
       " 3  tt0000001         4                 Καρμενσίτα     GR       \\N   \n",
       " 4  tt0000001         5                 Карменсита     RU       \\N   \n",
       " \n",
       "          types     attributes isOriginalTitle  \n",
       " 0  imdbDisplay             \\N               0  \n",
       " 1           \\N  literal title               0  \n",
       " 2  imdbDisplay             \\N               0  \n",
       " 3  imdbDisplay             \\N               0  \n",
       " 4  imdbDisplay             \\N               0  ,\n",
       "       tconst titleType            primaryTitle           originalTitle  \\\n",
       " 0  tt0000001     short              Carmencita              Carmencita   \n",
       " 1  tt0000002     short  Le clown et ses chiens  Le clown et ses chiens   \n",
       " 2  tt0000003     short          Pauvre Pierrot          Pauvre Pierrot   \n",
       " 3  tt0000004     short             Un bon bock             Un bon bock   \n",
       " 4  tt0000005     short        Blacksmith Scene        Blacksmith Scene   \n",
       " \n",
       "   isAdult startYear endYear runtimeMinutes                    genres  \n",
       " 0       0      1894      \\N              1         Documentary,Short  \n",
       " 1       0      1892      \\N              5           Animation,Short  \n",
       " 2       0      1892      \\N              4  Animation,Comedy,Romance  \n",
       " 3       0      1892      \\N             12           Animation,Short  \n",
       " 4       0      1893      \\N              1              Comedy,Short  ,\n",
       "       tconst  averageRating  numVotes\n",
       " 0  tt0000001            5.7      1991\n",
       " 1  tt0000002            5.8       265\n",
       " 2  tt0000003            6.5      1869\n",
       " 3  tt0000004            5.5       177\n",
       " 4  tt0000005            6.2      2655)"
      ]
     },
     "execution_count": 193,
     "metadata": {},
     "output_type": "execute_result"
    }
   ],
   "source": [
    "# Load the three files into respective dataframes\n",
    "url_akas = \"https://datasets.imdbws.com/title.akas.tsv.gz\"\n",
    "url_basics = \"https://datasets.imdbws.com/title.basics.tsv.gz\"\n",
    "url_ratings = \"https://datasets.imdbws.com/title.ratings.tsv.gz\"\n",
    "\n",
    "akas_df = pd.read_csv(url_akas, compression='gzip', sep='\\t', low_memory=False)\n",
    "basics_df = pd.read_csv(url_basics, compression='gzip', sep='\\t', low_memory=False)\n",
    "ratings_df = pd.read_csv(url_ratings, compression='gzip', sep='\\t', low_memory=False)\n",
    "\n",
    "# Display the first few rows of each dataframe to understand their structure\n",
    "akas_df.head(), basics_df.head(), ratings_df.head()\n"
   ]
  },
  {
   "cell_type": "code",
   "execution_count": 194,
   "id": "6ff6ccc2",
   "metadata": {
    "ExecuteTime": {
     "end_time": "2023-09-07T03:54:44.289354Z",
     "start_time": "2023-09-07T03:54:42.780311Z"
    }
   },
   "outputs": [],
   "source": [
    "akas_df = akas_df[(akas_df['region'] == 'US')]"
   ]
  },
  {
   "cell_type": "code",
   "execution_count": 195,
   "id": "85ee8e2c",
   "metadata": {
    "ExecuteTime": {
     "end_time": "2023-09-07T03:54:45.365328Z",
     "start_time": "2023-09-07T03:54:44.290321Z"
    }
   },
   "outputs": [
    {
     "data": {
      "text/html": [
       "<div>\n",
       "<style scoped>\n",
       "    .dataframe tbody tr th:only-of-type {\n",
       "        vertical-align: middle;\n",
       "    }\n",
       "\n",
       "    .dataframe tbody tr th {\n",
       "        vertical-align: top;\n",
       "    }\n",
       "\n",
       "    .dataframe thead th {\n",
       "        text-align: right;\n",
       "    }\n",
       "</style>\n",
       "<table border=\"1\" class=\"dataframe\">\n",
       "  <thead>\n",
       "    <tr style=\"text-align: right;\">\n",
       "      <th></th>\n",
       "      <th>titleId</th>\n",
       "      <th>ordering</th>\n",
       "      <th>title</th>\n",
       "      <th>region</th>\n",
       "      <th>language</th>\n",
       "      <th>types</th>\n",
       "      <th>attributes</th>\n",
       "      <th>isOriginalTitle</th>\n",
       "    </tr>\n",
       "  </thead>\n",
       "  <tbody>\n",
       "    <tr>\n",
       "      <th>5</th>\n",
       "      <td>tt0000001</td>\n",
       "      <td>6</td>\n",
       "      <td>Carmencita</td>\n",
       "      <td>US</td>\n",
       "      <td>NaN</td>\n",
       "      <td>imdbDisplay</td>\n",
       "      <td>NaN</td>\n",
       "      <td>0</td>\n",
       "    </tr>\n",
       "    <tr>\n",
       "      <th>14</th>\n",
       "      <td>tt0000002</td>\n",
       "      <td>7</td>\n",
       "      <td>The Clown and His Dogs</td>\n",
       "      <td>US</td>\n",
       "      <td>NaN</td>\n",
       "      <td>NaN</td>\n",
       "      <td>literal English title</td>\n",
       "      <td>0</td>\n",
       "    </tr>\n",
       "    <tr>\n",
       "      <th>33</th>\n",
       "      <td>tt0000005</td>\n",
       "      <td>10</td>\n",
       "      <td>Blacksmith Scene</td>\n",
       "      <td>US</td>\n",
       "      <td>NaN</td>\n",
       "      <td>imdbDisplay</td>\n",
       "      <td>NaN</td>\n",
       "      <td>0</td>\n",
       "    </tr>\n",
       "    <tr>\n",
       "      <th>36</th>\n",
       "      <td>tt0000005</td>\n",
       "      <td>1</td>\n",
       "      <td>Blacksmithing Scene</td>\n",
       "      <td>US</td>\n",
       "      <td>NaN</td>\n",
       "      <td>alternative</td>\n",
       "      <td>NaN</td>\n",
       "      <td>0</td>\n",
       "    </tr>\n",
       "    <tr>\n",
       "      <th>41</th>\n",
       "      <td>tt0000005</td>\n",
       "      <td>6</td>\n",
       "      <td>Blacksmith Scene #1</td>\n",
       "      <td>US</td>\n",
       "      <td>NaN</td>\n",
       "      <td>alternative</td>\n",
       "      <td>NaN</td>\n",
       "      <td>0</td>\n",
       "    </tr>\n",
       "  </tbody>\n",
       "</table>\n",
       "</div>"
      ],
      "text/plain": [
       "      titleId  ordering                   title region language        types  \\\n",
       "5   tt0000001         6              Carmencita     US      NaN  imdbDisplay   \n",
       "14  tt0000002         7  The Clown and His Dogs     US      NaN          NaN   \n",
       "33  tt0000005        10        Blacksmith Scene     US      NaN  imdbDisplay   \n",
       "36  tt0000005         1     Blacksmithing Scene     US      NaN  alternative   \n",
       "41  tt0000005         6     Blacksmith Scene #1     US      NaN  alternative   \n",
       "\n",
       "               attributes isOriginalTitle  \n",
       "5                     NaN               0  \n",
       "14  literal English title               0  \n",
       "33                    NaN               0  \n",
       "36                    NaN               0  \n",
       "41                    NaN               0  "
      ]
     },
     "execution_count": 195,
     "metadata": {},
     "output_type": "execute_result"
    }
   ],
   "source": [
    "akas_df.replace({'\\\\N': np.nan}, inplace=True)\n",
    "\n",
    "# Display the first few rows of the processed dataframe\n",
    "akas_df.head()\n",
    "\n"
   ]
  },
  {
   "cell_type": "code",
   "execution_count": 196,
   "id": "633d7a86",
   "metadata": {
    "ExecuteTime": {
     "end_time": "2023-09-07T03:54:48.167877Z",
     "start_time": "2023-09-07T03:54:45.367292Z"
    }
   },
   "outputs": [
    {
     "data": {
      "text/plain": [
       "0            True\n",
       "1            True\n",
       "2           False\n",
       "3           False\n",
       "4            True\n",
       "            ...  \n",
       "10135601    False\n",
       "10135602    False\n",
       "10135603    False\n",
       "10135604    False\n",
       "10135605    False\n",
       "Name: tconst, Length: 10135606, dtype: bool"
      ]
     },
     "execution_count": 196,
     "metadata": {},
     "output_type": "execute_result"
    }
   ],
   "source": [
    "# Filter the basics table down to only include the US by using the filter akas dataframe\n",
    "keepers1 =basics_df['tconst'].isin(akas_df['titleId'])\n",
    "keepers1\n",
    "\n"
   ]
  },
  {
   "cell_type": "code",
   "execution_count": 197,
   "id": "4e3816dc",
   "metadata": {
    "ExecuteTime": {
     "end_time": "2023-09-07T03:54:57.213355Z",
     "start_time": "2023-09-07T03:54:48.169268Z"
    }
   },
   "outputs": [
    {
     "name": "stdout",
     "output_type": "stream",
     "text": [
      "<class 'pandas.core.frame.DataFrame'>\n",
      "RangeIndex: 10135606 entries, 0 to 10135605\n",
      "Data columns (total 9 columns):\n",
      " #   Column          Dtype \n",
      "---  ------          ----- \n",
      " 0   tconst          object\n",
      " 1   titleType       object\n",
      " 2   primaryTitle    object\n",
      " 3   originalTitle   object\n",
      " 4   isAdult         object\n",
      " 5   startYear       object\n",
      " 6   endYear         object\n",
      " 7   runtimeMinutes  object\n",
      " 8   genres          object\n",
      "dtypes: object(9)\n",
      "memory usage: 696.0+ MB\n"
     ]
    }
   ],
   "source": [
    "basics_df.replace({'\\\\N': np.nan}, inplace=True)\n",
    "\n",
    "# Display the first few rows of the processed dataframe\n",
    "basics_df.head()\n",
    "basics_df.info()\n"
   ]
  },
  {
   "cell_type": "code",
   "execution_count": 198,
   "id": "ffcc88de",
   "metadata": {
    "ExecuteTime": {
     "end_time": "2023-09-07T03:54:57.584102Z",
     "start_time": "2023-09-07T03:54:57.214873Z"
    }
   },
   "outputs": [
    {
     "data": {
      "text/html": [
       "<div>\n",
       "<style scoped>\n",
       "    .dataframe tbody tr th:only-of-type {\n",
       "        vertical-align: middle;\n",
       "    }\n",
       "\n",
       "    .dataframe tbody tr th {\n",
       "        vertical-align: top;\n",
       "    }\n",
       "\n",
       "    .dataframe thead th {\n",
       "        text-align: right;\n",
       "    }\n",
       "</style>\n",
       "<table border=\"1\" class=\"dataframe\">\n",
       "  <thead>\n",
       "    <tr style=\"text-align: right;\">\n",
       "      <th></th>\n",
       "      <th>tconst</th>\n",
       "      <th>titleType</th>\n",
       "      <th>primaryTitle</th>\n",
       "      <th>originalTitle</th>\n",
       "      <th>isAdult</th>\n",
       "      <th>startYear</th>\n",
       "      <th>endYear</th>\n",
       "      <th>runtimeMinutes</th>\n",
       "      <th>genres</th>\n",
       "    </tr>\n",
       "  </thead>\n",
       "  <tbody>\n",
       "    <tr>\n",
       "      <th>0</th>\n",
       "      <td>tt0000001</td>\n",
       "      <td>short</td>\n",
       "      <td>Carmencita</td>\n",
       "      <td>Carmencita</td>\n",
       "      <td>0</td>\n",
       "      <td>1894</td>\n",
       "      <td>NaN</td>\n",
       "      <td>1</td>\n",
       "      <td>Documentary,Short</td>\n",
       "    </tr>\n",
       "    <tr>\n",
       "      <th>1</th>\n",
       "      <td>tt0000002</td>\n",
       "      <td>short</td>\n",
       "      <td>Le clown et ses chiens</td>\n",
       "      <td>Le clown et ses chiens</td>\n",
       "      <td>0</td>\n",
       "      <td>1892</td>\n",
       "      <td>NaN</td>\n",
       "      <td>5</td>\n",
       "      <td>Animation,Short</td>\n",
       "    </tr>\n",
       "    <tr>\n",
       "      <th>4</th>\n",
       "      <td>tt0000005</td>\n",
       "      <td>short</td>\n",
       "      <td>Blacksmith Scene</td>\n",
       "      <td>Blacksmith Scene</td>\n",
       "      <td>0</td>\n",
       "      <td>1893</td>\n",
       "      <td>NaN</td>\n",
       "      <td>1</td>\n",
       "      <td>Comedy,Short</td>\n",
       "    </tr>\n",
       "    <tr>\n",
       "      <th>5</th>\n",
       "      <td>tt0000006</td>\n",
       "      <td>short</td>\n",
       "      <td>Chinese Opium Den</td>\n",
       "      <td>Chinese Opium Den</td>\n",
       "      <td>0</td>\n",
       "      <td>1894</td>\n",
       "      <td>NaN</td>\n",
       "      <td>1</td>\n",
       "      <td>Short</td>\n",
       "    </tr>\n",
       "    <tr>\n",
       "      <th>6</th>\n",
       "      <td>tt0000007</td>\n",
       "      <td>short</td>\n",
       "      <td>Corbett and Courtney Before the Kinetograph</td>\n",
       "      <td>Corbett and Courtney Before the Kinetograph</td>\n",
       "      <td>0</td>\n",
       "      <td>1894</td>\n",
       "      <td>NaN</td>\n",
       "      <td>1</td>\n",
       "      <td>Short,Sport</td>\n",
       "    </tr>\n",
       "    <tr>\n",
       "      <th>...</th>\n",
       "      <td>...</td>\n",
       "      <td>...</td>\n",
       "      <td>...</td>\n",
       "      <td>...</td>\n",
       "      <td>...</td>\n",
       "      <td>...</td>\n",
       "      <td>...</td>\n",
       "      <td>...</td>\n",
       "      <td>...</td>\n",
       "    </tr>\n",
       "    <tr>\n",
       "      <th>10135467</th>\n",
       "      <td>tt9916560</td>\n",
       "      <td>tvMovie</td>\n",
       "      <td>March of Dimes Presents: Once Upon a Dime</td>\n",
       "      <td>March of Dimes Presents: Once Upon a Dime</td>\n",
       "      <td>0</td>\n",
       "      <td>1963</td>\n",
       "      <td>NaN</td>\n",
       "      <td>58</td>\n",
       "      <td>Family</td>\n",
       "    </tr>\n",
       "    <tr>\n",
       "      <th>10135496</th>\n",
       "      <td>tt9916620</td>\n",
       "      <td>movie</td>\n",
       "      <td>The Copeland Case</td>\n",
       "      <td>The Copeland Case</td>\n",
       "      <td>0</td>\n",
       "      <td>NaN</td>\n",
       "      <td>NaN</td>\n",
       "      <td>NaN</td>\n",
       "      <td>Drama</td>\n",
       "    </tr>\n",
       "    <tr>\n",
       "      <th>10135534</th>\n",
       "      <td>tt9916702</td>\n",
       "      <td>short</td>\n",
       "      <td>Loving London: The Playground</td>\n",
       "      <td>Loving London: The Playground</td>\n",
       "      <td>0</td>\n",
       "      <td>NaN</td>\n",
       "      <td>NaN</td>\n",
       "      <td>NaN</td>\n",
       "      <td>Drama,Short</td>\n",
       "    </tr>\n",
       "    <tr>\n",
       "      <th>10135557</th>\n",
       "      <td>tt9916756</td>\n",
       "      <td>short</td>\n",
       "      <td>Pretty Pretty Black Girl</td>\n",
       "      <td>Pretty Pretty Black Girl</td>\n",
       "      <td>0</td>\n",
       "      <td>2019</td>\n",
       "      <td>NaN</td>\n",
       "      <td>NaN</td>\n",
       "      <td>Short</td>\n",
       "    </tr>\n",
       "    <tr>\n",
       "      <th>10135561</th>\n",
       "      <td>tt9916764</td>\n",
       "      <td>short</td>\n",
       "      <td>38</td>\n",
       "      <td>38</td>\n",
       "      <td>0</td>\n",
       "      <td>2018</td>\n",
       "      <td>NaN</td>\n",
       "      <td>NaN</td>\n",
       "      <td>Short</td>\n",
       "    </tr>\n",
       "  </tbody>\n",
       "</table>\n",
       "<p>1376398 rows × 9 columns</p>\n",
       "</div>"
      ],
      "text/plain": [
       "             tconst titleType                                 primaryTitle  \\\n",
       "0         tt0000001     short                                   Carmencita   \n",
       "1         tt0000002     short                       Le clown et ses chiens   \n",
       "4         tt0000005     short                             Blacksmith Scene   \n",
       "5         tt0000006     short                            Chinese Opium Den   \n",
       "6         tt0000007     short  Corbett and Courtney Before the Kinetograph   \n",
       "...             ...       ...                                          ...   \n",
       "10135467  tt9916560   tvMovie    March of Dimes Presents: Once Upon a Dime   \n",
       "10135496  tt9916620     movie                            The Copeland Case   \n",
       "10135534  tt9916702     short                Loving London: The Playground   \n",
       "10135557  tt9916756     short                     Pretty Pretty Black Girl   \n",
       "10135561  tt9916764     short                                           38   \n",
       "\n",
       "                                        originalTitle isAdult startYear  \\\n",
       "0                                          Carmencita       0      1894   \n",
       "1                              Le clown et ses chiens       0      1892   \n",
       "4                                    Blacksmith Scene       0      1893   \n",
       "5                                   Chinese Opium Den       0      1894   \n",
       "6         Corbett and Courtney Before the Kinetograph       0      1894   \n",
       "...                                               ...     ...       ...   \n",
       "10135467    March of Dimes Presents: Once Upon a Dime       0      1963   \n",
       "10135496                            The Copeland Case       0       NaN   \n",
       "10135534                Loving London: The Playground       0       NaN   \n",
       "10135557                     Pretty Pretty Black Girl       0      2019   \n",
       "10135561                                           38       0      2018   \n",
       "\n",
       "         endYear runtimeMinutes             genres  \n",
       "0            NaN              1  Documentary,Short  \n",
       "1            NaN              5    Animation,Short  \n",
       "4            NaN              1       Comedy,Short  \n",
       "5            NaN              1              Short  \n",
       "6            NaN              1        Short,Sport  \n",
       "...          ...            ...                ...  \n",
       "10135467     NaN             58             Family  \n",
       "10135496     NaN            NaN              Drama  \n",
       "10135534     NaN            NaN        Drama,Short  \n",
       "10135557     NaN            NaN              Short  \n",
       "10135561     NaN            NaN              Short  \n",
       "\n",
       "[1376398 rows x 9 columns]"
      ]
     },
     "execution_count": 198,
     "metadata": {},
     "output_type": "execute_result"
    }
   ],
   "source": [
    "basics_df = basics_df[keepers1]\n",
    "basics_df\n",
    "\n"
   ]
  },
  {
   "cell_type": "code",
   "execution_count": 199,
   "id": "1d1d4436",
   "metadata": {
    "ExecuteTime": {
     "end_time": "2023-09-07T03:54:57.890575Z",
     "start_time": "2023-09-07T03:54:57.585269Z"
    }
   },
   "outputs": [
    {
     "data": {
      "text/plain": [
       "tconst             object\n",
       "titleType          object\n",
       "primaryTitle       object\n",
       "originalTitle      object\n",
       "isAdult            object\n",
       "startYear         float64\n",
       "endYear            object\n",
       "runtimeMinutes     object\n",
       "genres             object\n",
       "dtype: object"
      ]
     },
     "execution_count": 199,
     "metadata": {},
     "output_type": "execute_result"
    }
   ],
   "source": [
    "basics_df = basics_df[basics_df['runtimeMinutes'].notna()]\n",
    "\n",
    "basics_df = basics_df[basics_df['genres'].notna()]\n",
    "\n",
    "basics_df = basics_df[basics_df.titleType == 'movie']\n",
    "\n",
    "basics_df = basics_df[basics_df['startYear'].notna()]\n",
    "\n",
    "basics_df['startYear'] = basics_df['startYear'].astype(float)\n",
    "\n",
    "basics_df.dtypes"
   ]
  },
  {
   "cell_type": "code",
   "execution_count": 200,
   "id": "69cd9d20",
   "metadata": {
    "ExecuteTime": {
     "end_time": "2023-09-07T03:54:57.899949Z",
     "start_time": "2023-09-07T03:54:57.891695Z"
    }
   },
   "outputs": [
    {
     "data": {
      "text/html": [
       "<div>\n",
       "<style scoped>\n",
       "    .dataframe tbody tr th:only-of-type {\n",
       "        vertical-align: middle;\n",
       "    }\n",
       "\n",
       "    .dataframe tbody tr th {\n",
       "        vertical-align: top;\n",
       "    }\n",
       "\n",
       "    .dataframe thead th {\n",
       "        text-align: right;\n",
       "    }\n",
       "</style>\n",
       "<table border=\"1\" class=\"dataframe\">\n",
       "  <thead>\n",
       "    <tr style=\"text-align: right;\">\n",
       "      <th></th>\n",
       "      <th>tconst</th>\n",
       "      <th>titleType</th>\n",
       "      <th>primaryTitle</th>\n",
       "      <th>originalTitle</th>\n",
       "      <th>isAdult</th>\n",
       "      <th>startYear</th>\n",
       "      <th>endYear</th>\n",
       "      <th>runtimeMinutes</th>\n",
       "      <th>genres</th>\n",
       "    </tr>\n",
       "  </thead>\n",
       "  <tbody>\n",
       "    <tr>\n",
       "      <th>8</th>\n",
       "      <td>tt0000009</td>\n",
       "      <td>movie</td>\n",
       "      <td>Miss Jerry</td>\n",
       "      <td>Miss Jerry</td>\n",
       "      <td>0</td>\n",
       "      <td>1894.0</td>\n",
       "      <td>NaN</td>\n",
       "      <td>45</td>\n",
       "      <td>Romance</td>\n",
       "    </tr>\n",
       "    <tr>\n",
       "      <th>144</th>\n",
       "      <td>tt0000147</td>\n",
       "      <td>movie</td>\n",
       "      <td>The Corbett-Fitzsimmons Fight</td>\n",
       "      <td>The Corbett-Fitzsimmons Fight</td>\n",
       "      <td>0</td>\n",
       "      <td>1897.0</td>\n",
       "      <td>NaN</td>\n",
       "      <td>100</td>\n",
       "      <td>Documentary,News,Sport</td>\n",
       "    </tr>\n",
       "    <tr>\n",
       "      <th>570</th>\n",
       "      <td>tt0000574</td>\n",
       "      <td>movie</td>\n",
       "      <td>The Story of the Kelly Gang</td>\n",
       "      <td>The Story of the Kelly Gang</td>\n",
       "      <td>0</td>\n",
       "      <td>1906.0</td>\n",
       "      <td>NaN</td>\n",
       "      <td>70</td>\n",
       "      <td>Action,Adventure,Biography</td>\n",
       "    </tr>\n",
       "    <tr>\n",
       "      <th>587</th>\n",
       "      <td>tt0000591</td>\n",
       "      <td>movie</td>\n",
       "      <td>The Prodigal Son</td>\n",
       "      <td>L'enfant prodigue</td>\n",
       "      <td>0</td>\n",
       "      <td>1907.0</td>\n",
       "      <td>NaN</td>\n",
       "      <td>90</td>\n",
       "      <td>Drama</td>\n",
       "    </tr>\n",
       "    <tr>\n",
       "      <th>672</th>\n",
       "      <td>tt0000679</td>\n",
       "      <td>movie</td>\n",
       "      <td>The Fairylogue and Radio-Plays</td>\n",
       "      <td>The Fairylogue and Radio-Plays</td>\n",
       "      <td>0</td>\n",
       "      <td>1908.0</td>\n",
       "      <td>NaN</td>\n",
       "      <td>120</td>\n",
       "      <td>Adventure,Fantasy</td>\n",
       "    </tr>\n",
       "    <tr>\n",
       "      <th>...</th>\n",
       "      <td>...</td>\n",
       "      <td>...</td>\n",
       "      <td>...</td>\n",
       "      <td>...</td>\n",
       "      <td>...</td>\n",
       "      <td>...</td>\n",
       "      <td>...</td>\n",
       "      <td>...</td>\n",
       "      <td>...</td>\n",
       "    </tr>\n",
       "    <tr>\n",
       "      <th>10134961</th>\n",
       "      <td>tt9915436</td>\n",
       "      <td>movie</td>\n",
       "      <td>Vida em Movimento</td>\n",
       "      <td>Vida em Movimento</td>\n",
       "      <td>0</td>\n",
       "      <td>2019.0</td>\n",
       "      <td>NaN</td>\n",
       "      <td>70</td>\n",
       "      <td>Documentary</td>\n",
       "    </tr>\n",
       "    <tr>\n",
       "      <th>10135139</th>\n",
       "      <td>tt9915872</td>\n",
       "      <td>movie</td>\n",
       "      <td>The Last White Witch</td>\n",
       "      <td>Boku no kanojo wa mahoutsukai</td>\n",
       "      <td>0</td>\n",
       "      <td>2019.0</td>\n",
       "      <td>NaN</td>\n",
       "      <td>97</td>\n",
       "      <td>Comedy,Drama,Fantasy</td>\n",
       "    </tr>\n",
       "    <tr>\n",
       "      <th>10135279</th>\n",
       "      <td>tt9916170</td>\n",
       "      <td>movie</td>\n",
       "      <td>The Rehearsal</td>\n",
       "      <td>O Ensaio</td>\n",
       "      <td>0</td>\n",
       "      <td>2019.0</td>\n",
       "      <td>NaN</td>\n",
       "      <td>51</td>\n",
       "      <td>Drama</td>\n",
       "    </tr>\n",
       "    <tr>\n",
       "      <th>10135288</th>\n",
       "      <td>tt9916190</td>\n",
       "      <td>movie</td>\n",
       "      <td>Safeguard</td>\n",
       "      <td>Safeguard</td>\n",
       "      <td>0</td>\n",
       "      <td>2020.0</td>\n",
       "      <td>NaN</td>\n",
       "      <td>95</td>\n",
       "      <td>Action,Adventure,Thriller</td>\n",
       "    </tr>\n",
       "    <tr>\n",
       "      <th>10135372</th>\n",
       "      <td>tt9916362</td>\n",
       "      <td>movie</td>\n",
       "      <td>Coven</td>\n",
       "      <td>Akelarre</td>\n",
       "      <td>0</td>\n",
       "      <td>2020.0</td>\n",
       "      <td>NaN</td>\n",
       "      <td>92</td>\n",
       "      <td>Drama,History</td>\n",
       "    </tr>\n",
       "  </tbody>\n",
       "</table>\n",
       "<p>201353 rows × 9 columns</p>\n",
       "</div>"
      ],
      "text/plain": [
       "             tconst titleType                    primaryTitle  \\\n",
       "8         tt0000009     movie                      Miss Jerry   \n",
       "144       tt0000147     movie   The Corbett-Fitzsimmons Fight   \n",
       "570       tt0000574     movie     The Story of the Kelly Gang   \n",
       "587       tt0000591     movie                The Prodigal Son   \n",
       "672       tt0000679     movie  The Fairylogue and Radio-Plays   \n",
       "...             ...       ...                             ...   \n",
       "10134961  tt9915436     movie               Vida em Movimento   \n",
       "10135139  tt9915872     movie            The Last White Witch   \n",
       "10135279  tt9916170     movie                   The Rehearsal   \n",
       "10135288  tt9916190     movie                       Safeguard   \n",
       "10135372  tt9916362     movie                           Coven   \n",
       "\n",
       "                           originalTitle isAdult  startYear endYear  \\\n",
       "8                             Miss Jerry       0     1894.0     NaN   \n",
       "144        The Corbett-Fitzsimmons Fight       0     1897.0     NaN   \n",
       "570          The Story of the Kelly Gang       0     1906.0     NaN   \n",
       "587                    L'enfant prodigue       0     1907.0     NaN   \n",
       "672       The Fairylogue and Radio-Plays       0     1908.0     NaN   \n",
       "...                                  ...     ...        ...     ...   \n",
       "10134961               Vida em Movimento       0     2019.0     NaN   \n",
       "10135139   Boku no kanojo wa mahoutsukai       0     2019.0     NaN   \n",
       "10135279                        O Ensaio       0     2019.0     NaN   \n",
       "10135288                       Safeguard       0     2020.0     NaN   \n",
       "10135372                        Akelarre       0     2020.0     NaN   \n",
       "\n",
       "         runtimeMinutes                      genres  \n",
       "8                    45                     Romance  \n",
       "144                 100      Documentary,News,Sport  \n",
       "570                  70  Action,Adventure,Biography  \n",
       "587                  90                       Drama  \n",
       "672                 120           Adventure,Fantasy  \n",
       "...                 ...                         ...  \n",
       "10134961             70                 Documentary  \n",
       "10135139             97        Comedy,Drama,Fantasy  \n",
       "10135279             51                       Drama  \n",
       "10135288             95   Action,Adventure,Thriller  \n",
       "10135372             92               Drama,History  \n",
       "\n",
       "[201353 rows x 9 columns]"
      ]
     },
     "execution_count": 200,
     "metadata": {},
     "output_type": "execute_result"
    }
   ],
   "source": [
    "basics_df"
   ]
  },
  {
   "cell_type": "code",
   "execution_count": 201,
   "id": "183231d7",
   "metadata": {
    "ExecuteTime": {
     "end_time": "2023-09-07T03:54:58.007082Z",
     "start_time": "2023-09-07T03:54:57.901314Z"
    }
   },
   "outputs": [
    {
     "name": "stdout",
     "output_type": "stream",
     "text": [
      "<class 'pandas.core.frame.DataFrame'>\n",
      "Int64Index: 114626 entries, 34800 to 10135372\n",
      "Data columns (total 9 columns):\n",
      " #   Column          Non-Null Count   Dtype  \n",
      "---  ------          --------------   -----  \n",
      " 0   tconst          114626 non-null  object \n",
      " 1   titleType       114626 non-null  object \n",
      " 2   primaryTitle    114626 non-null  object \n",
      " 3   originalTitle   114626 non-null  object \n",
      " 4   isAdult         114626 non-null  object \n",
      " 5   startYear       114626 non-null  float64\n",
      " 6   endYear         0 non-null       object \n",
      " 7   runtimeMinutes  114626 non-null  object \n",
      " 8   genres          114626 non-null  object \n",
      "dtypes: float64(1), object(8)\n",
      "memory usage: 8.7+ MB\n"
     ]
    }
   ],
   "source": [
    "# Filtering the basics dataframe using startYear column to keep movies between 2000 and 2021 inclusive\n",
    "basics_df = basics_df[(basics_df['startYear'] >= 2000) & (basics_df['startYear'] <= 2021)]\n",
    "basics_df.info()"
   ]
  },
  {
   "cell_type": "code",
   "execution_count": 202,
   "id": "bdfb0804",
   "metadata": {
    "ExecuteTime": {
     "end_time": "2023-09-07T03:54:58.114225Z",
     "start_time": "2023-09-07T03:54:58.010597Z"
    }
   },
   "outputs": [
    {
     "name": "stdout",
     "output_type": "stream",
     "text": [
      "<class 'pandas.core.frame.DataFrame'>\n",
      "Int64Index: 82044 entries, 34800 to 10135372\n",
      "Data columns (total 9 columns):\n",
      " #   Column          Non-Null Count  Dtype  \n",
      "---  ------          --------------  -----  \n",
      " 0   tconst          82044 non-null  object \n",
      " 1   titleType       82044 non-null  object \n",
      " 2   primaryTitle    82044 non-null  object \n",
      " 3   originalTitle   82044 non-null  object \n",
      " 4   isAdult         82044 non-null  object \n",
      " 5   startYear       82044 non-null  float64\n",
      " 6   endYear         0 non-null      object \n",
      " 7   runtimeMinutes  82044 non-null  object \n",
      " 8   genres          82044 non-null  object \n",
      "dtypes: float64(1), object(8)\n",
      "memory usage: 6.3+ MB\n"
     ]
    }
   ],
   "source": [
    "# Exclude movies that are included in the documentary category.\n",
    "is_documentary = basics_df['genres'].str.contains('documentary',case=False)\n",
    "basics_df = basics_df[~is_documentary]\n",
    "basics_df.info()"
   ]
  },
  {
   "cell_type": "code",
   "execution_count": 203,
   "id": "a0fcb974",
   "metadata": {
    "ExecuteTime": {
     "end_time": "2023-09-07T03:54:58.225645Z",
     "start_time": "2023-09-07T03:54:58.115552Z"
    }
   },
   "outputs": [],
   "source": [
    "ratings_df.replace({'\\\\N': np.nan}, inplace=True)"
   ]
  },
  {
   "cell_type": "code",
   "execution_count": 204,
   "id": "92de83af",
   "metadata": {
    "ExecuteTime": {
     "end_time": "2023-09-07T03:54:58.437239Z",
     "start_time": "2023-09-07T03:54:58.227651Z"
    }
   },
   "outputs": [
    {
     "data": {
      "text/plain": [
       "0          False\n",
       "1          False\n",
       "2          False\n",
       "3          False\n",
       "4          False\n",
       "           ...  \n",
       "1345295    False\n",
       "1345296    False\n",
       "1345297    False\n",
       "1345298    False\n",
       "1345299    False\n",
       "Name: tconst, Length: 1345300, dtype: bool"
      ]
     },
     "execution_count": 204,
     "metadata": {},
     "output_type": "execute_result"
    }
   ],
   "source": [
    "# Filter the basics table down to only include the US by using the filter akas dataframe\n",
    "keepers2 =ratings_df['tconst'].isin(basics_df['tconst'])\n",
    "keepers2\n"
   ]
  },
  {
   "cell_type": "code",
   "execution_count": 205,
   "id": "209f3526",
   "metadata": {
    "ExecuteTime": {
     "end_time": "2023-09-07T03:54:58.451456Z",
     "start_time": "2023-09-07T03:54:58.439696Z"
    }
   },
   "outputs": [
    {
     "data": {
      "text/html": [
       "<div>\n",
       "<style scoped>\n",
       "    .dataframe tbody tr th:only-of-type {\n",
       "        vertical-align: middle;\n",
       "    }\n",
       "\n",
       "    .dataframe tbody tr th {\n",
       "        vertical-align: top;\n",
       "    }\n",
       "\n",
       "    .dataframe thead th {\n",
       "        text-align: right;\n",
       "    }\n",
       "</style>\n",
       "<table border=\"1\" class=\"dataframe\">\n",
       "  <thead>\n",
       "    <tr style=\"text-align: right;\">\n",
       "      <th></th>\n",
       "      <th>tconst</th>\n",
       "      <th>averageRating</th>\n",
       "      <th>numVotes</th>\n",
       "    </tr>\n",
       "  </thead>\n",
       "  <tbody>\n",
       "    <tr>\n",
       "      <th>17896</th>\n",
       "      <td>tt0035423</td>\n",
       "      <td>6.4</td>\n",
       "      <td>87470</td>\n",
       "    </tr>\n",
       "    <tr>\n",
       "      <th>40653</th>\n",
       "      <td>tt0062336</td>\n",
       "      <td>6.4</td>\n",
       "      <td>180</td>\n",
       "    </tr>\n",
       "    <tr>\n",
       "      <th>46366</th>\n",
       "      <td>tt0068865</td>\n",
       "      <td>5.4</td>\n",
       "      <td>74</td>\n",
       "    </tr>\n",
       "    <tr>\n",
       "      <th>46523</th>\n",
       "      <td>tt0069049</td>\n",
       "      <td>6.7</td>\n",
       "      <td>7812</td>\n",
       "    </tr>\n",
       "    <tr>\n",
       "      <th>58014</th>\n",
       "      <td>tt0082328</td>\n",
       "      <td>5.9</td>\n",
       "      <td>1747</td>\n",
       "    </tr>\n",
       "    <tr>\n",
       "      <th>...</th>\n",
       "      <td>...</td>\n",
       "      <td>...</td>\n",
       "      <td>...</td>\n",
       "    </tr>\n",
       "    <tr>\n",
       "      <th>1345219</th>\n",
       "      <td>tt9914942</td>\n",
       "      <td>6.6</td>\n",
       "      <td>181</td>\n",
       "    </tr>\n",
       "    <tr>\n",
       "      <th>1345246</th>\n",
       "      <td>tt9915872</td>\n",
       "      <td>6.4</td>\n",
       "      <td>9</td>\n",
       "    </tr>\n",
       "    <tr>\n",
       "      <th>1345259</th>\n",
       "      <td>tt9916170</td>\n",
       "      <td>7.0</td>\n",
       "      <td>7</td>\n",
       "    </tr>\n",
       "    <tr>\n",
       "      <th>1345260</th>\n",
       "      <td>tt9916190</td>\n",
       "      <td>3.7</td>\n",
       "      <td>243</td>\n",
       "    </tr>\n",
       "    <tr>\n",
       "      <th>1345271</th>\n",
       "      <td>tt9916362</td>\n",
       "      <td>6.4</td>\n",
       "      <td>5509</td>\n",
       "    </tr>\n",
       "  </tbody>\n",
       "</table>\n",
       "<p>68192 rows × 3 columns</p>\n",
       "</div>"
      ],
      "text/plain": [
       "            tconst  averageRating  numVotes\n",
       "17896    tt0035423            6.4     87470\n",
       "40653    tt0062336            6.4       180\n",
       "46366    tt0068865            5.4        74\n",
       "46523    tt0069049            6.7      7812\n",
       "58014    tt0082328            5.9      1747\n",
       "...            ...            ...       ...\n",
       "1345219  tt9914942            6.6       181\n",
       "1345246  tt9915872            6.4         9\n",
       "1345259  tt9916170            7.0         7\n",
       "1345260  tt9916190            3.7       243\n",
       "1345271  tt9916362            6.4      5509\n",
       "\n",
       "[68192 rows x 3 columns]"
      ]
     },
     "execution_count": 205,
     "metadata": {},
     "output_type": "execute_result"
    }
   ],
   "source": [
    "ratings_df = ratings_df[keepers2]\n",
    "ratings_df"
   ]
  },
  {
   "cell_type": "code",
   "execution_count": 147,
   "id": "16d10b6f",
   "metadata": {},
   "outputs": [
    {
     "name": "stdout",
     "output_type": "stream",
     "text": [
      "<class 'pandas.core.frame.DataFrame'>\n",
      "RangeIndex: 1464022 entries, 0 to 1464021\n",
      "Data columns (total 8 columns):\n",
      " #   Column           Non-Null Count    Dtype  \n",
      "---  ------           --------------    -----  \n",
      " 0   titleId          1464022 non-null  object \n",
      " 1   ordering         1464022 non-null  int64  \n",
      " 2   title            1464022 non-null  object \n",
      " 3   region           1464022 non-null  object \n",
      " 4   language         4126 non-null     object \n",
      " 5   types            983456 non-null   object \n",
      " 6   attributes       47438 non-null    object \n",
      " 7   isOriginalTitle  1462680 non-null  float64\n",
      "dtypes: float64(1), int64(1), object(6)\n",
      "memory usage: 89.4+ MB\n"
     ]
    }
   ],
   "source": [
    "# Save Dataframe\n",
    "akas_df.to_csv(\"Data/title_akas.csv.gz\", compression='gzip', index=False)\n",
    "\n",
    "# Open saved file\n",
    "akas_df = pd.read_csv(\"Data/title_akas.csv.gz\", low_memory=False)\n",
    "akas_df.head()\n",
    "akas_df.info() # resubmit added\n"
   ]
  },
  {
   "cell_type": "code",
   "execution_count": 206,
   "id": "16db1d98",
   "metadata": {
    "ExecuteTime": {
     "end_time": "2023-09-07T03:54:59.275310Z",
     "start_time": "2023-09-07T03:54:58.452658Z"
    }
   },
   "outputs": [
    {
     "name": "stdout",
     "output_type": "stream",
     "text": [
      "<class 'pandas.core.frame.DataFrame'>\n",
      "RangeIndex: 82044 entries, 0 to 82043\n",
      "Data columns (total 9 columns):\n",
      " #   Column          Non-Null Count  Dtype  \n",
      "---  ------          --------------  -----  \n",
      " 0   tconst          82044 non-null  object \n",
      " 1   titleType       82044 non-null  object \n",
      " 2   primaryTitle    82044 non-null  object \n",
      " 3   originalTitle   82044 non-null  object \n",
      " 4   isAdult         82044 non-null  int64  \n",
      " 5   startYear       82044 non-null  float64\n",
      " 6   endYear         0 non-null      float64\n",
      " 7   runtimeMinutes  82044 non-null  int64  \n",
      " 8   genres          82044 non-null  object \n",
      "dtypes: float64(2), int64(2), object(5)\n",
      "memory usage: 5.6+ MB\n"
     ]
    }
   ],
   "source": [
    "basics_df.to_csv(\"Data/title_basics.csv.gz\", compression='gzip' , index=False)\n",
    "\n",
    "#open saved file\n",
    "basics_df = pd.read_csv(\"Data/title_basics.csv.gz\", low_memory=False)\n",
    "basics_df.head()\n",
    "basics_df.info() #resubmit added\n"
   ]
  },
  {
   "cell_type": "code",
   "execution_count": 207,
   "id": "a31148d8",
   "metadata": {
    "ExecuteTime": {
     "end_time": "2023-09-07T03:54:59.680387Z",
     "start_time": "2023-09-07T03:54:59.276367Z"
    }
   },
   "outputs": [
    {
     "name": "stdout",
     "output_type": "stream",
     "text": [
      "<class 'pandas.core.frame.DataFrame'>\n",
      "RangeIndex: 68192 entries, 0 to 68191\n",
      "Data columns (total 3 columns):\n",
      " #   Column         Non-Null Count  Dtype  \n",
      "---  ------         --------------  -----  \n",
      " 0   tconst         68192 non-null  object \n",
      " 1   averageRating  68192 non-null  float64\n",
      " 2   numVotes       68192 non-null  int64  \n",
      "dtypes: float64(1), int64(1), object(1)\n",
      "memory usage: 1.6+ MB\n"
     ]
    }
   ],
   "source": [
    "ratings_df.to_csv(\"Data/title_ratings.csv.gz\", compression='gzip' , index=False)\n",
    "#open saved file\n",
    "ratings_df = pd.read_csv(\"Data/title_ratings.csv.gz\", low_memory=False)\n",
    "ratings_df.head()\n",
    "ratings_df.info() #resubmit added"
   ]
  },
  {
   "cell_type": "markdown",
   "id": "0f107965",
   "metadata": {},
   "source": [
    "## Using API"
   ]
  },
  {
   "cell_type": "code",
   "execution_count": 208,
   "id": "61e111eb",
   "metadata": {
    "ExecuteTime": {
     "end_time": "2023-09-07T03:54:59.727118Z",
     "start_time": "2023-09-07T03:54:59.699236Z"
    }
   },
   "outputs": [
    {
     "data": {
      "text/plain": [
       "dict_keys(['api-key'])"
      ]
     },
     "execution_count": 208,
     "metadata": {},
     "output_type": "execute_result"
    }
   ],
   "source": [
    "import json\n",
    "with open('/Users/corycates/.secret/tmdb_api.json', 'r') as f:\n",
    "    login = json.load(f)\n",
    "## Display the keys of the loaded dict\n",
    "login.keys()\n",
    "\n"
   ]
  },
  {
   "cell_type": "code",
   "execution_count": 209,
   "id": "92f4653d",
   "metadata": {
    "ExecuteTime": {
     "end_time": "2023-09-07T03:54:59.730549Z",
     "start_time": "2023-09-07T03:54:59.728401Z"
    }
   },
   "outputs": [],
   "source": [
    "import tmdbsimple as tmdb\n",
    "tmdb.API_KEY =  login['api-key']\n",
    "\n"
   ]
  },
  {
   "cell_type": "code",
   "execution_count": 210,
   "id": "c7d31920",
   "metadata": {
    "ExecuteTime": {
     "end_time": "2023-09-07T03:54:59.871241Z",
     "start_time": "2023-09-07T03:54:59.731800Z"
    }
   },
   "outputs": [
    {
     "data": {
      "text/plain": [
       "{'adult': False,\n",
       " 'backdrop_path': '/9ns9463dwOeo1CK1JU2wirL5Yi1.jpg',\n",
       " 'belongs_to_collection': None,\n",
       " 'budget': 50000000,\n",
       " 'genres': [{'id': 35, 'name': 'Comedy'},\n",
       "  {'id': 10751, 'name': 'Family'},\n",
       "  {'id': 16, 'name': 'Animation'}],\n",
       " 'homepage': 'https://www.tomandjerrymovie.com',\n",
       " 'id': 587807,\n",
       " 'imdb_id': 'tt1361336',\n",
       " 'original_language': 'en',\n",
       " 'original_title': 'Tom & Jerry',\n",
       " 'overview': 'Tom the cat and Jerry the mouse get kicked out of their home and relocate to a fancy New York hotel, where a scrappy employee named Kayla will lose her job if she can’t evict Jerry before a high-class wedding at the hotel. Her solution? Hiring Tom to get rid of the pesky mouse.',\n",
       " 'popularity': 43.462,\n",
       " 'poster_path': '/8XZI9QZ7Pm3fVkigWJPbrXCMzjq.jpg',\n",
       " 'production_companies': [{'id': 25120,\n",
       "   'logo_path': '/lMj6nMJBOzfLEd2fu8uF530AJcv.png',\n",
       "   'name': 'Warner Bros. Pictures Animation',\n",
       "   'origin_country': 'US'},\n",
       "  {'id': 8922,\n",
       "   'logo_path': '/yZWehAyjfKi4KvKeg1bkJ1bm5H8.png',\n",
       "   'name': 'Turner Entertainment',\n",
       "   'origin_country': 'US'},\n",
       "  {'id': 77061,\n",
       "   'logo_path': None,\n",
       "   'name': 'The Story Company',\n",
       "   'origin_country': 'US'},\n",
       "  {'id': 174,\n",
       "   'logo_path': '/IuAlhI9eVC9Z8UQWOIDdWRKSEJ.png',\n",
       "   'name': 'Warner Bros. Pictures',\n",
       "   'origin_country': 'US'}],\n",
       " 'production_countries': [{'iso_3166_1': 'US',\n",
       "   'name': 'United States of America'}],\n",
       " 'release_date': '2021-02-10',\n",
       " 'revenue': 136536687,\n",
       " 'runtime': 101,\n",
       " 'spoken_languages': [{'english_name': 'English',\n",
       "   'iso_639_1': 'en',\n",
       "   'name': 'English'}],\n",
       " 'status': 'Released',\n",
       " 'tagline': 'Best of enemies. Worst of friends.',\n",
       " 'title': 'Tom & Jerry',\n",
       " 'video': False,\n",
       " 'vote_average': 6.871,\n",
       " 'vote_count': 2274}"
      ]
     },
     "execution_count": 210,
     "metadata": {},
     "output_type": "execute_result"
    }
   ],
   "source": [
    "movie.info()"
   ]
  },
  {
   "cell_type": "code",
   "execution_count": 211,
   "id": "695ca3fa",
   "metadata": {
    "ExecuteTime": {
     "end_time": "2023-09-07T03:54:59.874939Z",
     "start_time": "2023-09-07T03:54:59.872641Z"
    }
   },
   "outputs": [
    {
     "data": {
      "text/plain": [
       "50000000"
      ]
     },
     "execution_count": 211,
     "metadata": {},
     "output_type": "execute_result"
    }
   ],
   "source": [
    "info['budget']\n"
   ]
  },
  {
   "cell_type": "code",
   "execution_count": 212,
   "id": "3a9a8b6f",
   "metadata": {
    "ExecuteTime": {
     "end_time": "2023-09-07T03:54:59.880314Z",
     "start_time": "2023-09-07T03:54:59.876137Z"
    }
   },
   "outputs": [
    {
     "data": {
      "text/plain": [
       "136536687"
      ]
     },
     "execution_count": 212,
     "metadata": {},
     "output_type": "execute_result"
    }
   ],
   "source": [
    "info['revenue']\n"
   ]
  },
  {
   "cell_type": "code",
   "execution_count": 213,
   "id": "a9aad958",
   "metadata": {
    "ExecuteTime": {
     "end_time": "2023-09-07T03:54:59.884412Z",
     "start_time": "2023-09-07T03:54:59.881598Z"
    }
   },
   "outputs": [
    {
     "data": {
      "text/plain": [
       "'tt1361336'"
      ]
     },
     "execution_count": 213,
     "metadata": {},
     "output_type": "execute_result"
    }
   ],
   "source": [
    "info['imdb_id']\n",
    "\n"
   ]
  },
  {
   "cell_type": "code",
   "execution_count": 214,
   "id": "cfc65803",
   "metadata": {
    "ExecuteTime": {
     "end_time": "2023-09-07T03:55:00.053378Z",
     "start_time": "2023-09-07T03:54:59.885822Z"
    }
   },
   "outputs": [
    {
     "data": {
      "text/plain": [
       "{'adult': False,\n",
       " 'backdrop_path': '/9BBTo63ANSmhC4e6r62OJFuK2GL.jpg',\n",
       " 'belongs_to_collection': {'id': 86311,\n",
       "  'name': 'The Avengers Collection',\n",
       "  'poster_path': '/yFSIUVTCvgYrpalUktulvk3Gi5Y.jpg',\n",
       "  'backdrop_path': '/zuW6fOiusv4X9nnW3paHGfXcSll.jpg'},\n",
       " 'budget': 220000000,\n",
       " 'genres': [{'id': 878, 'name': 'Science Fiction'},\n",
       "  {'id': 28, 'name': 'Action'},\n",
       "  {'id': 12, 'name': 'Adventure'}],\n",
       " 'homepage': 'https://www.marvel.com/movies/the-avengers',\n",
       " 'id': 24428,\n",
       " 'imdb_id': 'tt0848228',\n",
       " 'original_language': 'en',\n",
       " 'original_title': 'The Avengers',\n",
       " 'overview': 'When an unexpected enemy emerges and threatens global safety and security, Nick Fury, director of the international peacekeeping agency known as S.H.I.E.L.D., finds himself in need of a team to pull the world back from the brink of disaster. Spanning the globe, a daring recruitment effort begins!',\n",
       " 'popularity': 102.75,\n",
       " 'poster_path': '/RYMX2wcKCBAr24UyPD7xwmjaTn.jpg',\n",
       " 'production_companies': [{'id': 420,\n",
       "   'logo_path': '/hUzeosd33nzE5MCNsZxCGEKTXaQ.png',\n",
       "   'name': 'Marvel Studios',\n",
       "   'origin_country': 'US'}],\n",
       " 'production_countries': [{'iso_3166_1': 'US',\n",
       "   'name': 'United States of America'}],\n",
       " 'release_date': '2012-04-25',\n",
       " 'revenue': 1518815515,\n",
       " 'runtime': 143,\n",
       " 'spoken_languages': [{'english_name': 'English',\n",
       "   'iso_639_1': 'en',\n",
       "   'name': 'English'},\n",
       "  {'english_name': 'Hindi', 'iso_639_1': 'hi', 'name': 'हिन्दी'},\n",
       "  {'english_name': 'Russian', 'iso_639_1': 'ru', 'name': 'Pусский'}],\n",
       " 'status': 'Released',\n",
       " 'tagline': 'Some assembly required.',\n",
       " 'title': 'The Avengers',\n",
       " 'video': False,\n",
       " 'vote_average': 7.711,\n",
       " 'vote_count': 29084,\n",
       " 'certification': '10'}"
      ]
     },
     "execution_count": 214,
     "metadata": {},
     "output_type": "execute_result"
    }
   ],
   "source": [
    "# TEST FUNCTION FOR avengers\n",
    "test = get_movie_with_rating(\"tt0848228\") #put your function name here\n",
    "test\n",
    "\n",
    "\n",
    "\n"
   ]
  },
  {
   "cell_type": "code",
   "execution_count": 215,
   "id": "cf9235ad",
   "metadata": {
    "ExecuteTime": {
     "end_time": "2023-09-07T03:55:00.275476Z",
     "start_time": "2023-09-07T03:55:00.054593Z"
    }
   },
   "outputs": [
    {
     "data": {
      "text/plain": [
       "{'adult': False,\n",
       " 'backdrop_path': '/qom1SZSENdmHFNZBXbtJAU0WTlC.jpg',\n",
       " 'belongs_to_collection': None,\n",
       " 'budget': 29000000,\n",
       " 'genres': [{'id': 10749, 'name': 'Romance'}, {'id': 18, 'name': 'Drama'}],\n",
       " 'homepage': 'http://www.newline.com/properties/notebookthe.html',\n",
       " 'id': 11036,\n",
       " 'imdb_id': 'tt0332280',\n",
       " 'original_language': 'en',\n",
       " 'original_title': 'The Notebook',\n",
       " 'overview': \"An epic love story centered around an older man who reads aloud to a woman with Alzheimer's. From a faded notebook, the old man's words bring to life the story about a couple who is separated by World War II, and is then passionately reunited, seven years later, after they have taken different paths.\",\n",
       " 'popularity': 50.251,\n",
       " 'poster_path': '/rNzQyW4f8B8cQeg7Dgj3n6eT5k9.jpg',\n",
       " 'production_companies': [{'id': 12,\n",
       "   'logo_path': '/mevhneWSqbjU22D1MXNd4H9x0r0.png',\n",
       "   'name': 'New Line Cinema',\n",
       "   'origin_country': 'US'},\n",
       "  {'id': 1565, 'logo_path': None, 'name': 'Avery Pix', 'origin_country': 'US'},\n",
       "  {'id': 2605,\n",
       "   'logo_path': None,\n",
       "   'name': 'Gran Via Productions',\n",
       "   'origin_country': 'US'}],\n",
       " 'production_countries': [{'iso_3166_1': 'US',\n",
       "   'name': 'United States of America'}],\n",
       " 'release_date': '2004-06-25',\n",
       " 'revenue': 115603229,\n",
       " 'runtime': 123,\n",
       " 'spoken_languages': [{'english_name': 'English',\n",
       "   'iso_639_1': 'en',\n",
       "   'name': 'English'}],\n",
       " 'status': 'Released',\n",
       " 'tagline': 'Behind every great love is a great story.',\n",
       " 'title': 'The Notebook',\n",
       " 'video': False,\n",
       " 'vote_average': 7.88,\n",
       " 'vote_count': 10551,\n",
       " 'certification': '6'}"
      ]
     },
     "execution_count": 215,
     "metadata": {},
     "output_type": "execute_result"
    }
   ],
   "source": [
    "# TEST FUNCTION FOR NOTEBOOK\n",
    "test = get_movie_with_rating(\"tt0332280\") #put your function name here\n",
    "test"
   ]
  },
  {
   "cell_type": "code",
   "execution_count": 216,
   "id": "32950273",
   "metadata": {
    "ExecuteTime": {
     "end_time": "2023-09-07T03:55:00.299039Z",
     "start_time": "2023-09-07T03:55:00.285140Z"
    }
   },
   "outputs": [
    {
     "data": {
      "text/plain": [
       "[2000, 2001]"
      ]
     },
     "execution_count": 216,
     "metadata": {},
     "output_type": "execute_result"
    }
   ],
   "source": [
    "YEARS_TO_GET = [2000,2001]\n",
    "\n",
    "YEARS_TO_GET"
   ]
  },
  {
   "cell_type": "code",
   "execution_count": 217,
   "id": "0a62096d",
   "metadata": {
    "ExecuteTime": {
     "end_time": "2023-09-07T03:55:00.302325Z",
     "start_time": "2023-09-07T03:55:00.299916Z"
    }
   },
   "outputs": [],
   "source": [
    "# Error list to reference later after the loops\n",
    "errors = [ ]\n",
    "\n"
   ]
  },
  {
   "cell_type": "code",
   "execution_count": 219,
   "id": "2bdf3087",
   "metadata": {
    "ExecuteTime": {
     "end_time": "2023-09-07T03:56:31.654753Z",
     "start_time": "2023-09-07T03:56:31.624107Z"
    }
   },
   "outputs": [
    {
     "data": {
      "application/vnd.jupyter.widget-view+json": {
       "model_id": "1d0dcd19c00042b8a1a163f3bc056103",
       "version_major": 2,
       "version_minor": 0
      },
      "text/plain": [
       "YEARS:   0%|          | 0/2 [00:00<?, ?it/s]"
      ]
     },
     "metadata": {},
     "output_type": "display_data"
    },
    {
     "name": "stdout",
     "output_type": "stream",
     "text": [
      "2000\n",
      "2001\n"
     ]
    }
   ],
   "source": [
    "from tqdm.notebook import tqdm_notebook\n",
    "for YEAR in tqdm_notebook(YEARS_TO_GET, desc='YEARS', position=0):\n",
    "    # Some code to execute for each YEAR\n",
    "    print(YEAR)\n"
   ]
  },
  {
   "cell_type": "code",
   "execution_count": 220,
   "id": "2db52dcb",
   "metadata": {
    "ExecuteTime": {
     "end_time": "2023-09-07T03:56:36.875260Z",
     "start_time": "2023-09-07T03:56:36.867286Z"
    }
   },
   "outputs": [],
   "source": [
    "#Defining the JSON file to store results for year\n",
    "JSON_FILE = f'{FOLDER}tmdb_api_results_{YEAR}.json'\n",
    "\n"
   ]
  },
  {
   "cell_type": "code",
   "execution_count": 221,
   "id": "0fb6a71d",
   "metadata": {
    "ExecuteTime": {
     "end_time": "2023-09-07T03:56:38.922715Z",
     "start_time": "2023-09-07T03:56:38.914564Z"
    }
   },
   "outputs": [],
   "source": [
    "# Check if file exists\n",
    "file_exists = os.path.isfile(JSON_FILE)\n",
    "\n"
   ]
  },
  {
   "cell_type": "code",
   "execution_count": 222,
   "id": "28dcb726",
   "metadata": {
    "ExecuteTime": {
     "end_time": "2023-09-07T03:56:42.234603Z",
     "start_time": "2023-09-07T03:56:42.225100Z"
    }
   },
   "outputs": [],
   "source": [
    "# If it does not exist: create it\n",
    "if file_exists == False:\n",
    "# save an empty dict with just \"imdb_id\" to the new json file.\n",
    "    with open(JSON_FILE,'w') as f:\n",
    "        json.dump([{'imdb_id':0}],f)\n",
    "\n"
   ]
  },
  {
   "cell_type": "code",
   "execution_count": 223,
   "id": "3b388251",
   "metadata": {
    "ExecuteTime": {
     "end_time": "2023-09-07T03:56:53.044990Z",
     "start_time": "2023-09-07T03:56:53.022380Z"
    }
   },
   "outputs": [
    {
     "data": {
      "text/html": [
       "<div>\n",
       "<style scoped>\n",
       "    .dataframe tbody tr th:only-of-type {\n",
       "        vertical-align: middle;\n",
       "    }\n",
       "\n",
       "    .dataframe tbody tr th {\n",
       "        vertical-align: top;\n",
       "    }\n",
       "\n",
       "    .dataframe thead th {\n",
       "        text-align: right;\n",
       "    }\n",
       "</style>\n",
       "<table border=\"1\" class=\"dataframe\">\n",
       "  <thead>\n",
       "    <tr style=\"text-align: right;\">\n",
       "      <th></th>\n",
       "      <th>tconst</th>\n",
       "      <th>titleType</th>\n",
       "      <th>primaryTitle</th>\n",
       "      <th>originalTitle</th>\n",
       "      <th>isAdult</th>\n",
       "      <th>startYear</th>\n",
       "      <th>endYear</th>\n",
       "      <th>runtimeMinutes</th>\n",
       "      <th>genres</th>\n",
       "    </tr>\n",
       "  </thead>\n",
       "  <tbody>\n",
       "    <tr>\n",
       "      <th>0</th>\n",
       "      <td>tt0035423</td>\n",
       "      <td>movie</td>\n",
       "      <td>Kate &amp; Leopold</td>\n",
       "      <td>Kate &amp; Leopold</td>\n",
       "      <td>0</td>\n",
       "      <td>2001.0</td>\n",
       "      <td>NaN</td>\n",
       "      <td>118</td>\n",
       "      <td>Comedy,Fantasy,Romance</td>\n",
       "    </tr>\n",
       "    <tr>\n",
       "      <th>12</th>\n",
       "      <td>tt0114447</td>\n",
       "      <td>movie</td>\n",
       "      <td>The Silent Force</td>\n",
       "      <td>The Silent Force</td>\n",
       "      <td>0</td>\n",
       "      <td>2001.0</td>\n",
       "      <td>NaN</td>\n",
       "      <td>90</td>\n",
       "      <td>Action</td>\n",
       "    </tr>\n",
       "    <tr>\n",
       "      <th>16</th>\n",
       "      <td>tt0116916</td>\n",
       "      <td>movie</td>\n",
       "      <td>The Lord Protector</td>\n",
       "      <td>The Lord Protector</td>\n",
       "      <td>0</td>\n",
       "      <td>2001.0</td>\n",
       "      <td>NaN</td>\n",
       "      <td>101</td>\n",
       "      <td>Action,Adventure,Fantasy</td>\n",
       "    </tr>\n",
       "    <tr>\n",
       "      <th>21</th>\n",
       "      <td>tt0118589</td>\n",
       "      <td>movie</td>\n",
       "      <td>Glitter</td>\n",
       "      <td>Glitter</td>\n",
       "      <td>0</td>\n",
       "      <td>2001.0</td>\n",
       "      <td>NaN</td>\n",
       "      <td>104</td>\n",
       "      <td>Drama,Music,Romance</td>\n",
       "    </tr>\n",
       "    <tr>\n",
       "      <th>22</th>\n",
       "      <td>tt0118652</td>\n",
       "      <td>movie</td>\n",
       "      <td>The Attic Expeditions</td>\n",
       "      <td>The Attic Expeditions</td>\n",
       "      <td>0</td>\n",
       "      <td>2001.0</td>\n",
       "      <td>NaN</td>\n",
       "      <td>100</td>\n",
       "      <td>Comedy,Horror,Mystery</td>\n",
       "    </tr>\n",
       "  </tbody>\n",
       "</table>\n",
       "</div>"
      ],
      "text/plain": [
       "       tconst titleType           primaryTitle          originalTitle  \\\n",
       "0   tt0035423     movie         Kate & Leopold         Kate & Leopold   \n",
       "12  tt0114447     movie       The Silent Force       The Silent Force   \n",
       "16  tt0116916     movie     The Lord Protector     The Lord Protector   \n",
       "21  tt0118589     movie                Glitter                Glitter   \n",
       "22  tt0118652     movie  The Attic Expeditions  The Attic Expeditions   \n",
       "\n",
       "    isAdult  startYear  endYear  runtimeMinutes                    genres  \n",
       "0         0     2001.0      NaN             118    Comedy,Fantasy,Romance  \n",
       "12        0     2001.0      NaN              90                    Action  \n",
       "16        0     2001.0      NaN             101  Action,Adventure,Fantasy  \n",
       "21        0     2001.0      NaN             104       Drama,Music,Romance  \n",
       "22        0     2001.0      NaN             100     Comedy,Horror,Mystery  "
      ]
     },
     "execution_count": 223,
     "metadata": {},
     "output_type": "execute_result"
    }
   ],
   "source": [
    "#Saving new year as the current df\n",
    "current_df = basics_df.loc[ basics_df['startYear']==YEAR].copy()\n",
    "# saving movie ids to list\n",
    "movie_ids = df['tconst'].copy()\n",
    "\n",
    "current_df.head(5)\n",
    "\n",
    "\n"
   ]
  },
  {
   "cell_type": "code",
   "execution_count": 224,
   "id": "1aaba4f5",
   "metadata": {
    "ExecuteTime": {
     "end_time": "2023-09-07T03:56:56.687051Z",
     "start_time": "2023-09-07T03:56:56.668681Z"
    }
   },
   "outputs": [],
   "source": [
    "# Load existing data from json into a dataframe called \"previous_df\"\n",
    "previous_df = pd.read_json(JSON_FILE)\n",
    "\n"
   ]
  },
  {
   "cell_type": "code",
   "execution_count": 225,
   "id": "b7ee253e",
   "metadata": {
    "ExecuteTime": {
     "end_time": "2023-09-07T03:56:59.453275Z",
     "start_time": "2023-09-07T03:56:59.437610Z"
    }
   },
   "outputs": [],
   "source": [
    "# filter out any ids that are already in the JSON_FILE\n",
    "movie_ids_to_get = movie_ids[~movie_ids.isin(previous_df['imdb_id'])]\n",
    "\n"
   ]
  },
  {
   "cell_type": "markdown",
   "id": "42e184dc",
   "metadata": {},
   "source": [
    "## Start of the Inner Loop"
   ]
  },
  {
   "cell_type": "code",
   "execution_count": 226,
   "id": "a1b3272a",
   "metadata": {
    "ExecuteTime": {
     "end_time": "2023-09-07T04:03:47.980611Z",
     "start_time": "2023-09-07T03:57:03.619208Z"
    }
   },
   "outputs": [
    {
     "data": {
      "application/vnd.jupyter.widget-view+json": {
       "model_id": "bee5f638f74349f68891613a6199583c",
       "version_major": 2,
       "version_minor": 0
      },
      "text/plain": [
       "Movies from 2001:   0%|          | 0/1581 [00:00<?, ?it/s]"
      ]
     },
     "metadata": {},
     "output_type": "display_data"
    }
   ],
   "source": [
    "    #Get index and movie id from list\n",
    "    # INNER Loop\n",
    "    for movie_id in tqdm(movie_ids_to_get,\n",
    "                                  desc=f'Movies from {YEAR}',\n",
    "                                  position=1,\n",
    "                                  leave=True):\n",
    "        try:\n",
    "            # Retrieve then data for the movie id\n",
    "            temp = get_movie_with_rating(movie_id)  \n",
    "            # Append/extend results to existing file using a pre-made function\n",
    "            write_json(temp,JSON_FILE)\n",
    "            # Short 20 ms sleep to prevent overwhelming server\n",
    "            time.sleep(0.02)\n",
    "            \n",
    "        except Exception as e:\n",
    "            errors.append([movie_id, e])\n",
    "\n"
   ]
  },
  {
   "cell_type": "markdown",
   "id": "e5b0f0c1",
   "metadata": {},
   "source": [
    "## After the Loop"
   ]
  },
  {
   "cell_type": "code",
   "execution_count": 227,
   "id": "4188bccb",
   "metadata": {
    "ExecuteTime": {
     "end_time": "2023-09-07T04:04:42.521240Z",
     "start_time": "2023-09-07T04:04:42.403735Z"
    }
   },
   "outputs": [],
   "source": [
    "final_year_df = pd.read_json(JSON_FILE)\n",
    "final_year_df.to_csv(f\"{FOLDER}final_tmdb_data_{YEAR}.csv.gz\", compression=\"gzip\", index=False)\n",
    "\n"
   ]
  },
  {
   "cell_type": "code",
   "execution_count": 228,
   "id": "41cee346",
   "metadata": {
    "ExecuteTime": {
     "end_time": "2023-09-07T04:04:51.480368Z",
     "start_time": "2023-09-07T04:04:51.471392Z"
    }
   },
   "outputs": [
    {
     "name": "stdout",
     "output_type": "stream",
     "text": [
      "- Total errors: 231\n"
     ]
    }
   ],
   "source": [
    "print(f\"- Total errors: {len(errors)}\")\n",
    "\n"
   ]
  },
  {
   "cell_type": "code",
   "execution_count": 229,
   "id": "3d4b0bd0",
   "metadata": {
    "ExecuteTime": {
     "end_time": "2023-09-07T04:05:02.744221Z",
     "start_time": "2023-09-07T04:05:02.698787Z"
    }
   },
   "outputs": [],
   "source": [
    "# Instead of previous_df=pd.read_json:\n",
    "previous_df = read_and_fix_json(JSON_FILE)\n",
    "\n"
   ]
  },
  {
   "cell_type": "markdown",
   "id": "8ad6343f",
   "metadata": {},
   "source": [
    "### Observation:  All years are appended to one file (2000 and 2001).  To get both years, the for loop needs to be altered to reflect both.  "
   ]
  }
 ],
 "metadata": {
  "hide_input": false,
  "kernelspec": {
   "display_name": "Python (dojo-env)",
   "language": "python",
   "name": "dojo-env"
  },
  "language_info": {
   "codemirror_mode": {
    "name": "ipython",
    "version": 3
   },
   "file_extension": ".py",
   "mimetype": "text/x-python",
   "name": "python",
   "nbconvert_exporter": "python",
   "pygments_lexer": "ipython3",
   "version": "3.9.15"
  },
  "nbTranslate": {
   "displayLangs": [
    "*"
   ],
   "hotkey": "alt-t",
   "langInMainMenu": true,
   "sourceLang": "en",
   "targetLang": "fr",
   "useGoogleTranslate": true
  },
  "toc": {
   "base_numbering": 1,
   "nav_menu": {},
   "number_sections": true,
   "sideBar": true,
   "skip_h1_title": false,
   "title_cell": "Table of Contents",
   "title_sidebar": "Contents",
   "toc_cell": false,
   "toc_position": {},
   "toc_section_display": true,
   "toc_window_display": false
  }
 },
 "nbformat": 4,
 "nbformat_minor": 5
}
